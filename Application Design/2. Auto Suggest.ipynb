{
 "cells": [
  {
   "cell_type": "markdown",
   "metadata": {},
   "source": [
    "# Design - Auto Suggest\n",
    "\n",
    "Auto suggest is the application where we type initial word, characters and system suggests text matching the characters we typed.\n",
    "\n",
    "Its a form of keysWithPrefix where we search for all the keys starting with that prefix.\n",
    "\n",
    "## Constraints\n",
    "1. Store UTF-8 characters\n",
    "2. Application section that captures every stroke and sends that information to get the auto suggestions is out of the scope of writing auto suggestion system.\n",
    "3. Time and Space complexity: O(k) --> k is the length of the word.\n",
    "\n",
    "## Use Case\n",
    "1. User start typing characters in the word, and system finds all the words starting with that prefix. \n",
    "\n",
    "## Possible Solutions\n",
    "- **Hashtable**  \n",
    "For every prefix, search for all the words in the hashtable that match the prefix.    \n",
    "Time complexity: O (N * K) ==> O(N<sup>2</sup>)  \n",
    "    \n",
    "Reasoning: There are N words in the hashtable and we match every character (K character) of the word with every word in the hashtable.\n",
    "    \n",
    "- **Trie (Ternary Search Tree )**\n",
    "\n",
    "All the words in the dictionary will be stored in the Trie. For every prefix, we perform collect on the Trie that does inorder traversal of the Trie and put matching trie portion on the queue and returns all the items from the queue as possible auto suggestions.\n",
    "\n",
    "![image](https://user-images.githubusercontent.com/2688478/33809897-b6e219b0-ddb2-11e7-9135-7751cbda0df6.png)\n",
    "\n",
    "In Order traversal of the Ternary Search Trie process visits the left sub tree, then visit the middle sub tree and then visit the right sub tree.\n",
    "\n",
    "Every time a value is found for a character, we put that word on the queue.\n",
    "\n",
    "![image](https://user-images.githubusercontent.com/2688478/33809961-7e91c03c-ddb3-11e7-9a76-75d881fd6f84.png)\n"
   ]
  },
  {
   "cell_type": "code",
   "execution_count": 15,
   "metadata": {
    "scrolled": false
   },
   "outputs": [
    {
     "data": {
      "text/plain": [
       "com.twosigma.beaker.javash.bkrab6e7cdf.AutoSuggest"
      ]
     },
     "execution_count": 15,
     "metadata": {},
     "output_type": "execute_result"
    }
   ],
   "source": [
    "import java.util.*;\n",
    "\n",
    "public class AutoSuggest {\n",
    "    private Node root;\n",
    "    \n",
    "    private class Node {\n",
    "        private char c;\n",
    "        private boolean val;\n",
    "        private Node left, mid, right;\n",
    "    }\n",
    "    \n",
    "    public void loadAutoSuggest(String[] input) {\n",
    "        for(String a: input) {\n",
    "            root = put(root, a, Boolean.TRUE, 0); //dont need to pass value as value for the word will be TRUE\n",
    "        }\n",
    "    }\n",
    "    \n",
    "    private Node put (Node x, String key, boolean val, int d) {\n",
    "        char c = key.charAt(d);\n",
    "        \n",
    "        if (x == null) { x = new Node(); x.c = c;}\n",
    "        if(c < x.c) x.left = put (x.left, key, val, d);\n",
    "        else if(c > x.c) x.right = put (x.right, key, val, d);\n",
    "        else if(d != key.length()-1) x.mid = put (x.mid, key, val, d+1);\n",
    "        else x.val = val;\n",
    "        \n",
    "        return x;\n",
    "    }\n",
    "    \n",
    "    private Node get (Node x, String key, int d) {\n",
    "        if (x == null)                return null;\n",
    "        char c = key.charAt(d);\n",
    "        if(c < x.c)                   return get(x.left, key, d); \n",
    "        else if(c > x.c)              return get(x.right, key, d); \n",
    "        else if (d != key.length()-1) return get (x.mid, key, d+1);\n",
    "        else return x;\n",
    "    }\n",
    "    \n",
    "    public Iterable<String> keysWithPrefix(String prefix) {\n",
    "        Queue<String> queue = new LinkedList<String>();\n",
    "        Node x = get (root, prefix, 0);\n",
    "        if(x == null) return queue; //queue may not have any matching words\n",
    "        if(x.val == Boolean.TRUE) queue.add(prefix);\n",
    "        collect(x.mid, new StringBuilder(prefix), queue);\n",
    "        \n",
    "        return queue;\n",
    "    }\n",
    "    \n",
    "    //Collects all keys in subtrie rooted at x with given prefix\n",
    "    private void collect (Node x, StringBuilder prefix, Queue<String> queue) {\n",
    "        if(x == null) return;\n",
    "        collect (x.left, prefix, queue);\n",
    "        if(x.val == Boolean.TRUE) queue.add(prefix.toString() + x.c);\n",
    "        collect (x.mid, prefix.append(x.c), queue);\n",
    "        prefix.deleteCharAt(prefix.length()-1);   \n",
    "        collect (x.right, prefix, queue);\n",
    "    }\n",
    "}"
   ]
  },
  {
   "cell_type": "code",
   "execution_count": 18,
   "metadata": {},
   "outputs": [
    {
     "name": "stdout",
     "output_type": "stream",
     "text": [
      "sea seae seaells seaellshe seaellshells seaellshellsore \n",
      "she shells shellsore \n"
     ]
    },
    {
     "data": {
      "text/plain": [
       "null"
      ]
     },
     "execution_count": 18,
     "metadata": {},
     "output_type": "execute_result"
    }
   ],
   "source": [
    "AutoSuggest as = new AutoSuggest();\n",
    "String[]  a = {\"by\", \"sea\", \"see\", \"sells\", \"she\", \"shells\", \"shore\", \"the\"};\n",
    "as.loadAutoSuggest(a);\n",
    "\n",
    "Iterable<String> sit = as.keysWithPrefix(\"s\");\n",
    "for(String s: sit)\n",
    "    System.out.print(s + \" \");\n",
    "System.out.println();\n",
    "\n",
    "sit = as.keysWithPrefix(\"sh\");\n",
    "for(String s: sit)\n",
    "    System.out.print(s + \" \");\n",
    "System.out.println();"
   ]
  },
  {
   "cell_type": "markdown",
   "metadata": {},
   "source": [
    "## Performance\n",
    "\n"
   ]
  }
 ],
 "metadata": {
  "kernelspec": {
   "display_name": "Java",
   "language": "java",
   "name": "java"
  },
  "language_info": {
   "codemirror_mode": "text/x-java",
   "file_extension": ".java",
   "mimetype": "",
   "name": "Java",
   "nbconverter_exporter": "",
   "version": "1.8.0_121"
  }
 },
 "nbformat": 4,
 "nbformat_minor": 2
}
