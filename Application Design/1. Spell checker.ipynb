{
 "cells": [
  {
   "cell_type": "markdown",
   "metadata": {
    "slideshow": {
     "slide_type": "slide"
    }
   },
   "source": [
    "# Design Application - Spell Checker\n",
    "\n",
    "\n",
    "## Algorithm Design Canvas\n",
    "\n",
    "Every design question needs to be handled by following predefined [Design Canvas](https://www.hiredintech.com/the-algorithm-design-canvas.pdf) \n",
    "\n",
    "Before getting into the code, \n",
    "1. Identify constraints of the design by asking more questions to the interviewer\n",
    "2. Come up with the possible ideas\n",
    "3. Identify time and space constraints\n",
    "4. Identify test cases including edge cases\n",
    "5. Now get into the code\n",
    "\n",
    "\n",
    "![image](https://user-images.githubusercontent.com/2688478/33750976-527a7a58-db8c-11e7-9b6f-41dfb727b7ee.png)\n",
    "\n",
    "\n",
    "\n",
    "## Question \n",
    "Design a Spell Checker\n",
    "\n",
    "Lets approach the Spell Checker problem by going over the design canvas steps\n",
    "\n",
    "### Constraints\n",
    "1. Spell checker will store UTF8 character set words\n",
    "2. Will check for the validity of the word after the word has been typed\n",
    "3. False positive not allowed (Word is not valid but identified to be a valid word)  \n",
    "4. Memory / space requirement / constraint:\n",
    "5. Time requirement / constraint: O(k) k == length of the longest word in the dictionary\n",
    "\n",
    "\n",
    "### Use Cases\n",
    "1. User types the word in a document and spell checker checks if the word is valid\n",
    "2. Spell checker accepts a String as an input and returns true or false based on if it is valid or not valid.\n",
    "\n",
    "### Possible Solutions\n",
    "<span style=\"color:red\">1. Hashtable </span>   \n",
    "Store all possible words in the English language dictionary in the hashtable. When a word is typed in the application, that word is searched in the hashtable. If the word is found in the hashtable, the word is correct, else the word is incorrect.  \n",
    "When the word is completely typed, we calculate hash value for the word based on the hash function.  \n",
    "For this Hash value, a location in the hash table is searched (any conflicts are resolved) and if the value is found at the location, the word is considered to be correct.  \n",
    "Search, Insert and Delete  \n",
    " - Best Case Time Taken = O(1) --> Privided we have a uniform hash function \n",
    " - Worst Case Time Taken = O(N) --> this is when Hash function puts all the values into a single bucket and we endup searching all elements one by one using separate chaining.\n",
    "\n",
    "<span style=\"color:red\">2. Tries </span>   \n",
    "If Hashtable provides such a good performance then why do we even talk about any other data structure\n",
    "\n",
    "That is because, \n",
    " - for the best performance we assume that the hash function is a uniform hashing function. That is, hash function uniformly distributes the input into different bucket avoiding any collision.\n",
    " - In the worst case scenario, the time taken is proportional to the length of the input O(N)\n",
    " - Also hash table does not support **Ordered Operations** like rank and floor etc\n",
    " \n",
    "So can we do better  \n",
    "The answer is yes, if we can avoid examining the entire key, as with the String sorting.\n",
    "\n",
    "![image](https://user-images.githubusercontent.com/2688478/33792683-3f3d468a-dc5b-11e7-8c2d-630623597a77.png)\n",
    "Typically Search miss is faster than search hit because we might find out that the key does not exists before even we are done with all the characters in the input.\n",
    "\n",
    "We store each word in the English language in a **Ternary Search Trie**. When searching for the word, we search each character of the word in the trie. If the entire word exists, the spelling of the word is correct else incorrect.\n",
    "\n",
    "\n",
    "### Test Cases\n",
    "TODO\n",
    "\n",
    "\n",
    "### Performance Improvement\n",
    "\n",
    "In a regular R-Way tries, each node stores reference array of all possible characters that can appear in the trie.  \n",
    "So for characters with UTF-8 encoding, we need an array of size 256. For UTF-16 (Unicode) it would be 65K. This results into significant amount of wasted space.  \n",
    "Ths solution is to use **Ternary Search Tries** with 3 nodes.\n",
    "\n",
    "### Advantages of TST over Hashing\n",
    "- TST is fast as hashing but space efficient. Faster than hashing especially for search misses.\n",
    "- Hashing requires examing entire keys. TST does not require examining entire key for misses.\n",
    "- Hashing performance heavily relies on Hash function.\n",
    "- Hash function like TST does not support ordered operations.\n",
    "- In practice a **Hybrid of R-Way tries and TST** is setup R-way branching at the root of the TST. It takes care of 2 characters and then it becomes smaller TSTs.\n",
    "![image](https://user-images.githubusercontent.com/2688478/33792942-7e830bc0-dc62-11e7-927c-c101e5a975e8.png)\n",
    "\n",
    "### TST disadvantages\n",
    "- Only works with strings (or digital keys)"
   ]
  },
  {
   "cell_type": "code",
   "execution_count": 1,
   "metadata": {},
   "outputs": [
    {
     "data": {
      "text/plain": [
       "com.twosigma.beaker.javash.bkrf2f7e762.SpellChecker"
      ]
     },
     "execution_count": 1,
     "metadata": {},
     "output_type": "execute_result"
    }
   ],
   "source": [
    "public class SpellChecker {\n",
    "    private Node root;\n",
    "    \n",
    "    private class Node {\n",
    "        private char c;\n",
    "        private boolean val;\n",
    "        private Node left, mid, right;\n",
    "    }\n",
    "    \n",
    "    public void loadTrie(String[] data) {\n",
    "        for(String a: data) \n",
    "            put(a, Boolean.TRUE);\n",
    "    }\n",
    "    \n",
    "    public void put(String key, boolean val) {\n",
    "        root = put (root, key, val, 0);\n",
    "    }\n",
    "    \n",
    "    private Node put (Node x, String key, boolean val, int d) {\n",
    "        \n",
    "        char c = key.charAt(d);\n",
    "        if (x == null) { x = new Node(); x.c = c;}\n",
    "        if      (c < x.c)              x.left = put (x.left, key, val, d);\n",
    "        else if (c > x.c)              x.right = put (x.right, key, val, d);\n",
    "        else if (d < key.length() - 1) x.mid = put (x.mid, key, val, d+1);\n",
    "        else                           x.val = val;\n",
    "        \n",
    "        return x;\n",
    "    }\n",
    "    \n",
    "    public boolean isValid(String key) {\n",
    "        return get(key);\n",
    "    }\n",
    "    \n",
    "    public boolean get(String key){\n",
    "        Node x = get (root, key, 0);\n",
    "        if(x == null) return false;\n",
    "        return x.val;\n",
    "    } \n",
    "    \n",
    "    private Node get (Node x, String key, int d){\n",
    "        if(x == null) return null;\n",
    "        char c = key.charAt(d);\n",
    "        if (c < x.c)                  return get (x.left, key, d);\n",
    "        else if (c > x.c)             return get (x.right, key, d);\n",
    "        else if (d < key.length() -1) return get (x.mid, key, d+1);\n",
    "        else                          return x;\n",
    "    }\n",
    "    \n",
    "    \n",
    "}"
   ]
  },
  {
   "cell_type": "code",
   "execution_count": 2,
   "metadata": {},
   "outputs": [
    {
     "name": "stdout",
     "output_type": "stream",
     "text": [
      "is word \"test\" valid: true\n",
      "is word \"line\" valid: true\n",
      "is word \"missing\" valid: false\n"
     ]
    },
    {
     "data": {
      "text/plain": [
       "null"
      ]
     },
     "execution_count": 2,
     "metadata": {},
     "output_type": "execute_result"
    }
   ],
   "source": [
    "String[] a = {\"test\", \"this\", \"line\"}; \n",
    "SpellChecker sc = new SpellChecker();\n",
    "sc.loadTrie(a);\n",
    "\n",
    "System.out.println(\"is word \\\"test\\\" valid: \" + sc.isValid(\"test\"));\n",
    "System.out.println(\"is word \\\"line\\\" valid: \" + sc.isValid(\"line\"));\n",
    "System.out.println(\"is word \\\"missing\\\" valid: \" + sc.isValid(\"missing\"));"
   ]
  },
  {
   "cell_type": "markdown",
   "metadata": {},
   "source": [
    "## Performance\n",
    "![image](https://user-images.githubusercontent.com/2688478/33792923-fa33cf1c-dc61-11e7-96e4-b5d3ac8d203b.png)"
   ]
  }
 ],
 "metadata": {
  "kernelspec": {
   "display_name": "Java",
   "language": "java",
   "name": "java"
  },
  "language_info": {
   "codemirror_mode": "text/x-java",
   "file_extension": ".java",
   "mimetype": "",
   "name": "Java",
   "nbconverter_exporter": "",
   "version": "1.8.0_121"
  }
 },
 "nbformat": 4,
 "nbformat_minor": 2
}
