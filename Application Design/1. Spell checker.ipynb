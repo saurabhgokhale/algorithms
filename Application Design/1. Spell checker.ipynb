{
 "cells": [
  {
   "cell_type": "markdown",
   "metadata": {},
   "source": [
    "# Design Application - Spell Checker\n",
    "\n",
    "\n",
    "## Algorithm Design Canvas\n",
    "\n",
    "Every design question needs to be handled by following predefined [Design Canvas](https://www.hiredintech.com/the-algorithm-design-canvas.pdf) \n",
    "\n",
    "Before getting into the code, \n",
    "1. Identify constraints of the design by asking more questions to the interviewer\n",
    "2. Come up with the possible ideas\n",
    "3. Identify time and space constraints\n",
    "4. Identify test cases including edge cases\n",
    "5. Now get into the code\n",
    "\n",
    "\n",
    "![image](https://user-images.githubusercontent.com/2688478/33750976-527a7a58-db8c-11e7-9b6f-41dfb727b7ee.png)\n",
    "\n",
    "\n",
    "\n",
    "## Question \n",
    "Design a Spell Checker\n",
    "\n",
    "Lets approach the Spell Checker problem by going over the design canvas steps\n",
    "\n",
    "### Constraints\n",
    "1. Spell checker will store UTF8 character set words\n",
    "2. Will check for the validity of the word after the word has been typed\n",
    "3. False positive not allowed (Word is not valid but identified to be a valid word)  \n",
    "4. Memory / space requirement / constraint:\n",
    "5. Time requirement / constraint: O(k) k == length of the longest word in the dictionary\n",
    "\n",
    "\n",
    "### Use Cases\n",
    "1. User types the word in a document and spell checker checks if the word is valid\n",
    "2. Spell checker accepts a String as an input and returns true or false based on if it is valid or not valid.\n",
    "\n",
    "### Possible Solutions\n",
    "1. Hashtable    \n",
    "Store all possible words in the English language dictionary in the hashtable. When a word is typed in the application, that word is searched in the hashtable. If the word is found in the hashtable, the word is correct, else the word is incorrect.\n",
    "\n",
    "When the word is completely typed, we calculate hash value for the word based on the hash function.\n",
    "For this Hash value, a location in the hash table is searched (any conflicts are resolved) and if the value is found at the location, the word is considered to be correct.   \n",
    "\n",
    "Search and Insert Best Case Time Taken = O(1)  \n",
    "Search and Insert Worst Case Time Taken = O(N) --> this is when Hash function puts all the values into a single bucket and we endup searching all elements one by one using separate chaining.\n",
    "\n",
    "\n",
    "2. Tries  \n"
   ]
  }
 ],
 "metadata": {
  "kernelspec": {
   "display_name": "Java",
   "language": "java",
   "name": "java"
  },
  "language_info": {
   "codemirror_mode": "text/x-java",
   "file_extension": ".java",
   "mimetype": "",
   "name": "Java",
   "nbconverter_exporter": "",
   "version": "1.8.0_121"
  }
 },
 "nbformat": 4,
 "nbformat_minor": 2
}
