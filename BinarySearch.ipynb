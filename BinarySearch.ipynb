{
 "cells": [
  {
   "cell_type": "markdown",
   "metadata": {},
   "source": [
    "# Binary Search\n",
    "---\n",
    "In Binary Search, the input is in a sorted order. When searching for the key, it is compared with the middle element.\n",
    "\n",
    "If the middle element is equal to key, corresponding index is returned.\n",
    "\n",
    "If the middle element is smaller than the key, left half of the input (which is smaller than or equal to the middle element) is ignored and recursive search continue to the elements on the right half of the input.\n",
    "\n",
    "If the middle element is greater than the key, exactly reverse process is performed."
   ]
  },
  {
   "cell_type": "code",
   "execution_count": 5,
   "metadata": {},
   "outputs": [
    {
     "data": {
      "text/plain": [
       "com.twosigma.beaker.javash.bkr1f3cf92f.BinarySearchTest"
      ]
     },
     "execution_count": 5,
     "metadata": {},
     "output_type": "execute_result"
    }
   ],
   "source": [
    "import java.util.*;\n",
    "\n",
    "public class BinarySearchTest{\n",
    "    public static int binarySearch(int[] a, int key){\n",
    "        //Make sure the input is sorted\n",
    "        Arrays.sort(a);\n",
    "        \n",
    "        int l = 0;\n",
    "        int h = a.length - 1;\n",
    "        \n",
    "        while (l <= h) {\n",
    "            int m = l + (h-l)/2;\n",
    "            \n",
    "            //If key matches the low element? return low\n",
    "            if(key == a[l]) return l;\n",
    "            else if(key == a[h]) return h;\n",
    "            else if(key == a[m]) return m;\n",
    "            else if(key > a[m]) {\n",
    "                l = m + 1;\n",
    "            }else{\n",
    "                h = m-1;\n",
    "            }\n",
    "        }\n",
    "        //If we come out of while loop without finding a location, \n",
    "        //that means the element is not in the input therefore return -1 instead\n",
    "        return -1;\n",
    "    }\n",
    "}"
   ]
  },
  {
   "cell_type": "code",
   "execution_count": 9,
   "metadata": {},
   "outputs": [
    {
     "name": "stdout",
     "output_type": "stream",
     "text": [
      "index of 7 in the input = 4\n",
      "index of 17 in the input = -1\n"
     ]
    },
    {
     "data": {
      "text/plain": [
       "null"
      ]
     },
     "execution_count": 9,
     "metadata": {},
     "output_type": "execute_result"
    }
   ],
   "source": [
    "int[] a = {1,3,5,6,7,9};\n",
    "System.out.println(\"index of 7 in the input = \" + BinarySearchTest.binarySearch(a, 7));\n",
    "System.out.println(\"index of 17 in the input = \" + BinarySearchTest.binarySearch(a, 17));"
   ]
  },
  {
   "cell_type": "markdown",
   "metadata": {},
   "source": [
    "Time Taken: O(logn)\n",
    "\n",
    "[Analysis of timing](http://stackoverflow.com/questions/8185079/how-to-calculate-binary-search-complexity)\n",
    "\n",
    "How much time it takes to reach 1 by continuously dividing the given array\n",
    "\n",
    "N + N/2 + N/4 + N/8 + .... + N/N  \n",
    "If we take N out  \n",
    "N[ 1/2 + 1/4 + 1/8 + ... +1 ] \n",
    "This much time it takes to reach to 1  \n",
    "So N[ 1/2 ^x ] = 1  \n",
    "Multiply both sides by 2^x --> N = 2^x  \n",
    "log2(N) = log2(2^x)  \n",
    "log2(N) = x * log2(2)  \n",
    "Now log2(2) is 1 . \n",
    "log2(N) = x  \n",
    "\n",
    "So the running time is logN\n",
    "\n",
    "\n",
    "\n",
    "\n"
   ]
  }
 ],
 "metadata": {
  "kernelspec": {
   "display_name": "Java",
   "language": "java",
   "name": "java"
  },
  "language_info": {
   "codemirror_mode": "text/x-java",
   "file_extension": ".java",
   "mimetype": "",
   "name": "Java",
   "nbconverter_exporter": "",
   "version": "1.8.0_121"
  }
 },
 "nbformat": 4,
 "nbformat_minor": 2
}
