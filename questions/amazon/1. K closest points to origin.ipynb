{
 "cells": [
  {
   "cell_type": "markdown",
   "metadata": {},
   "source": [
    "# Find K Closest Points to Origin\n",
    "\n",
    "## Question\n",
    "Given an 2D array with x and y coordinates of the points on plane. Find the K closest points to given origin\n",
    "\n",
    "Points: [-2,4] [0,2] [-1,0] [3,5] [-2,-3] [3,2]  \n",
    "Origin: [0,0]\n",
    "\n",
    "### Constraints\n",
    "- Can the origin change? So I will have to accept origin coordinates as well or assume origin to be always 0,0\n",
    "- What are the space / time complexity constraints\n",
    "\n",
    "\n",
    "### Ideas\n",
    "- Get the squre root of the square of both the side. That will give the distance from the origin. Then based on their distance, add them to TreeMap<Double, Point>\n",
    "\n",
    "- Time complexity to get the distances for N elements O(N)  \n",
    "- Time complexity to populate TreeMap for N elements O(N)  \n",
    "- Space complexity for storing N elements O(N)\n",
    "- Time complexity for retriving each element O(1)"
   ]
  },
  {
   "cell_type": "code",
   "execution_count": 7,
   "metadata": {},
   "outputs": [
    {
     "data": {
      "text/plain": [
       "com.twosigma.beaker.javash.bkr6c686460.KNearests"
      ]
     },
     "execution_count": 7,
     "metadata": {},
     "output_type": "execute_result"
    }
   ],
   "source": [
    "import java.util.*;\n",
    "\n",
    "public class KNearests {\n",
    "    Point [] input;\n",
    "    \n",
    "    public KNearests (Point[] input) {\n",
    "        this.input = input;\n",
    "    }\n",
    "    \n",
    "    private class Point {\n",
    "        int x;\n",
    "        int y;\n",
    "        Point(int x, int y){\n",
    "            this.x = x;\n",
    "            this.y = y;\n",
    "        }\n",
    "    }\n",
    "    \n",
    "    private static TreeMap<Double, Point> constructCloseness(Point[] a, Point o) {\n",
    "        TreeMap<Double, Point> dist = new TreeMap<Double, Point>();\n",
    "            \n",
    "        for(Point p: a){\n",
    "            double distance = Math.sqrt(Math.pow(p.x-p.x, 2) + Math.pow(p.y-p.y, 2));\n",
    "            dist.put(distance, p);\n",
    "        }\n",
    "        \n",
    "        return dist;\n",
    "    }\n",
    "    \n",
    "    public static Point distFromOrigin(Point o, int distance) {\n",
    "        TreeMap<Double, Point> dist = constructCloseness (input, o);\n",
    "        \n",
    "        return (distance < dist.size()) ? dist.get(distance): null;\n",
    "        \n",
    "    }\n",
    "}"
   ]
  },
  {
   "cell_type": "code",
   "execution_count": 12,
   "metadata": {},
   "outputs": [
    {
     "ename": "ERROR",
     "evalue": " 3 compilation error(s)",
     "output_type": "error",
     "traceback": [
      "\u001b[0;31mERROR: 3 compilation error(s)",
      "\u001b[0;31m",
      "\u001b[0;31merror at line 1: com.twosigma.beaker.javash.bkr6c686460.KNearests.Point has private access in com.twosigma.beaker.javash.bkr6c686460.KNearests",
      "\u001b[0;31m import com.twosigma.beaker.javash.bkr6c686460.KNearests.Point",
      "\u001b[0;31m        ^                                                     ^ ",
      "\u001b[0;31m",
      "\u001b[0;31merror at line 2: cannot find symbol",
      "\u001b[0;31m  symbol:   class Point",
      "\u001b[0;31m  location: class com.twosigma.beaker.javash.bkr6c686460.BeakerWrapperClass1261714175Id9b74aea1133a405daef4d27e73707926",
      "\u001b[0;31m Point a = new Point(-2,4)",
      "\u001b[0;31m ^    ^                     ",
      "\u001b[0;31m",
      "\u001b[0;31merror at line 2: cannot find symbol",
      "\u001b[0;31m  symbol:   class Point",
      "\u001b[0;31m  location: class com.twosigma.beaker.javash.bkr6c686460.BeakerWrapperClass1261714175Id9b74aea1133a405daef4d27e73707926",
      "\u001b[0;31m Point a = new Point(-2,4)",
      "\u001b[0;31m               ^    ^       "
     ]
    }
   ],
   "source": [
    "import com.twosigma.beaker.javash.bkr6c686460.KNearests.Point;\n",
    "Point a = new Point(-2,4);"
   ]
  }
 ],
 "metadata": {
  "kernelspec": {
   "display_name": "Java",
   "language": "java",
   "name": "java"
  },
  "language_info": {
   "codemirror_mode": "text/x-java",
   "file_extension": ".java",
   "mimetype": "",
   "name": "Java",
   "nbconverter_exporter": "",
   "version": "1.8.0_121"
  }
 },
 "nbformat": 4,
 "nbformat_minor": 2
}
