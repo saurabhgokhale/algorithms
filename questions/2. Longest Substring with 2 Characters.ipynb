{
 "cells": [
  {
   "cell_type": "markdown",
   "metadata": {},
   "source": [
    "# Find longest Substring with 2 Unique Characters\n",
    "\n",
    "Find the longest substring with 2 unique characters\n",
    "\n",
    "Example: assdeeeddffffha  \n",
    "Output: deeeedd\n",
    "\n",
    "Example: asasdeeaeddffffha  \n",
    "Output: ffffh\n",
    "\n",
    "### Constraints\n",
    "- Only UTF-8 characters\n",
    "- String may be empty\n",
    "- String may not have 2 unique characters\n",
    "- String fits main memory\n",
    "\n",
    "### Ideas\n",
    "keep tracking left and right edge of the string. All the characters in the string are added to a hashMap with their frequencies.  \n",
    "Also keep track of max string found so far. add a new character and if total number of unique characters are more than 2, remove the character from left. Remove all occurances of that character. If the string is larger than the previous string. "
   ]
  },
  {
   "cell_type": "code",
   "execution_count": 3,
   "metadata": {},
   "outputs": [
    {
     "data": {
      "text/plain": [
       "com.twosigma.beaker.javash.bkr04ec6c0d.Substring2UniqueChar"
      ]
     },
     "execution_count": 3,
     "metadata": {},
     "output_type": "execute_result"
    }
   ],
   "source": [
    "import java.util.*;\n",
    "\n",
    "public class Substring2UniqueChar {\n",
    "    public static String longestSs2UniqueChar(String a) {\n",
    "\t\t// if a length is 2 or less return entire string as a longest substring\n",
    "\t\tif (a.length() < 3)\n",
    "\t\t\treturn a;\n",
    "\n",
    "\t\t// if a length is greater than 2 then...\n",
    "\t\tStringBuilder sb = new StringBuilder();\n",
    "\t\tString max = \"\";\n",
    "\n",
    "\t\tint i = 0;\n",
    "\t\tint j = 1;\n",
    "\t\tMap<Character, Integer> uChar = new HashMap<Character, Integer>();\n",
    "\t\tsb.append(a.substring(0, 2));\n",
    "\n",
    "\t\t//TODO: Check if instead of map, if I can use direct variables like char1 and char2\n",
    "\t\tuChar.merge(a.charAt(0), 1, Integer::sum);\n",
    "\t\tuChar.merge(a.charAt(1), 1, Integer::sum);\n",
    "\n",
    "\t\tj = 2;\n",
    "\t\twhile (j < a.length()) {\n",
    "\t\t\tuChar.merge(a.charAt(j), 1, Integer::sum);\n",
    "\t\t\tif (uChar.size() > 2) {\n",
    "\t\t\t\t// move i forward and remove all the occurances of i from the\n",
    "\t\t\t\t// string\n",
    "\t\t\t\tchar c = a.charAt(i);\n",
    "\t\t\t\tint count = uChar.get(c);\n",
    "\t\t\t\t// uChar.remove(c);\n",
    "\t\t\t\twhile (count > 0) {\n",
    "\t\t\t\t\tif (a.charAt(i) == c)\n",
    "\t\t\t\t\t\tcount--;\n",
    "\t\t\t\t\tint temp = uChar.get(a.charAt(i)) - 1;\n",
    "\t\t\t\t\tif (temp == 0)\n",
    "\t\t\t\t\t\tuChar.remove(a.charAt(i));\n",
    "\t\t\t\t\telse\n",
    "\t\t\t\t\t\tuChar.put(a.charAt(i), temp);\n",
    "\n",
    "\t\t\t\t\ti++;\n",
    "\t\t\t\t\tif (uChar.size() <= 2)\n",
    "\t\t\t\t\t\tbreak;\n",
    "\t\t\t\t}\n",
    "\t\t\t\tsb.setLength(0);\n",
    "\t\t\t\tsb.append(a.substring(i, j + 1));\n",
    "\n",
    "\t\t\t} else {\n",
    "\t\t\t\t// still there are 2 characters but the length of the string now\n",
    "\t\t\t\t// is longer than before\n",
    "\t\t\t\tsb.append(a.charAt(j));\n",
    "\t\t\t}\n",
    "\t\t\tif (max.length() < sb.toString().length())\n",
    "\t\t\t\tmax = sb.toString();\n",
    "\t\t\tj++;\n",
    "\t\t}\n",
    "\n",
    "\t\treturn max;\n",
    "\t}\n",
    "}"
   ]
  },
  {
   "cell_type": "code",
   "execution_count": null,
   "metadata": {},
   "outputs": [],
   "source": []
  },
  {
   "cell_type": "code",
   "execution_count": null,
   "metadata": {},
   "outputs": [],
   "source": [
    "System.out.println(\"assdeeeddffffha = \" + Substring2UniqueChar.longestSs2UniqueChar(\"assdeeeddffffha\"));"
   ]
  },
  {
   "cell_type": "code",
   "execution_count": null,
   "metadata": {},
   "outputs": [],
   "source": []
  }
 ],
 "metadata": {
  "kernelspec": {
   "display_name": "Java",
   "language": "java",
   "name": "java"
  },
  "language_info": {
   "codemirror_mode": "text/x-java",
   "file_extension": ".java",
   "mimetype": "",
   "name": "Java",
   "nbconverter_exporter": "",
   "version": "1.8.0_121"
  }
 },
 "nbformat": 4,
 "nbformat_minor": 2
}
