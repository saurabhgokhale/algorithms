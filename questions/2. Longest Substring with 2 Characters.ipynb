{
 "cells": [
  {
   "cell_type": "markdown",
   "metadata": {},
   "source": [
    "# Find longest Substring with 2 Unique Characters\n",
    "\n",
    "Find the longest substring with 2 unique characters\n",
    "\n",
    "Example: assdeeeddffffha  \n",
    "Output: deeeedd\n",
    "\n",
    "Example: asasdeeaeddffffha  \n",
    "Output: ffffh\n",
    "\n",
    "### Constraints\n",
    "- Only UTF-8 characters\n",
    "- String may be empty\n",
    "- String may not have 2 unique characters\n",
    "- String fits main memory\n",
    "\n",
    "### Ideas\n",
    "keep tracking left and right edge of the string. All the characters in the string are added to a hashMap with their frequencies.  \n",
    "Also keep track of max string found so far. add a new character and if total number of unique characters are more than 2, remove the character from left. Remove all occurances of that character. If the string is larger than the previous string. "
   ]
  },
  {
   "cell_type": "code",
   "execution_count": 1,
   "metadata": {},
   "outputs": [
    {
     "data": {
      "text/plain": [
       "com.twosigma.beaker.javash.bkr04ec6c0d.Substring2UniqueChar"
      ]
     },
     "execution_count": 1,
     "metadata": {},
     "output_type": "execute_result"
    }
   ],
   "source": [
    "import java.util.*;\n",
    "\n",
    "public class Substring2UniqueChar {\n",
    "    public static String longestSs2UniqueChar(String a){\n",
    "        //if a length is 2 or less return entire string as a longest substring\n",
    "        if(a.length() < 3) return a;\n",
    "        \n",
    "        //if a length is greater than 2 then...\n",
    "        StringBuilder sb = new StringBuilder();\n",
    "        \n",
    "        int i = 0; \n",
    "        int j = 1;\n",
    "        HashMap<Character, Integer> uChar = new HashMap<Character, Integer>();\n",
    "        sb.append(a.substring(0, 2));\n",
    "        \n",
    "        uChar.merge(a.charAt(0), 1, Integer::sum);\n",
    "        uChar.merge(a.charAt(1), 1, Integer::sum);\n",
    "        \n",
    "        j = 2;\n",
    "        while(j < a.length()) {\n",
    "            uChar.merge(a.charAt(j), 1, Integer::sum);\n",
    "            if(uChar.size() > 2){\n",
    "                //move i forward and remove all the occurances of i from the string\n",
    "                char c  = a.charAt(i);\n",
    "                int count = uChar.get(c);\n",
    "                while(count > 0){\n",
    "                    i++;\n",
    "                    if(a.charAt(i) == c) count--;\n",
    "                }\n",
    "                if(sb.toString().length() < j - i + 1){\n",
    "                    sb.setLength(0);\n",
    "                    sb.append(a.substring(i, j+1));\n",
    "                }\n",
    "                    \n",
    "            }\n",
    "        }\n",
    "        \n",
    "        return sb.toString();\n",
    "    }\n",
    "}"
   ]
  },
  {
   "cell_type": "code",
   "execution_count": 2,
   "metadata": {},
   "outputs": [
    {
     "ename": "interrupted",
     "evalue": "interrupted",
     "output_type": "error",
     "traceback": [
      "\u001b[0;31minterrupted"
     ]
    }
   ],
   "source": [
    "System.out.println(\"assdeeeddffffha = \" + Substring2UniqueChar.longestSs2UniqueChar(\"assdeeeddffffha\"));"
   ]
  }
 ],
 "metadata": {
  "kernelspec": {
   "display_name": "Java",
   "language": "java",
   "name": "java"
  },
  "language_info": {
   "codemirror_mode": "text/x-java",
   "file_extension": ".java",
   "mimetype": "",
   "name": "Java",
   "nbconverter_exporter": "",
   "version": "1.8.0_121"
  }
 },
 "nbformat": 4,
 "nbformat_minor": 2
}
