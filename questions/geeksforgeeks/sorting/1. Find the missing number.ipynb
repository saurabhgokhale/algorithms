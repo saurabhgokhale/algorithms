{
 "cells": [
  {
   "cell_type": "markdown",
   "metadata": {},
   "source": [
    "# Find the Missing Number\n",
    "\n",
    "http://www.geeksforgeeks.org/find-the-missing-number/\n",
    "\n",
    "You are given a list of n-1 integers and these integers are in the range of 1 to n. There are no duplicates in list. One of the integers is missing in the list. Write an efficient code to find the missing integer.\n",
    "\n",
    "Example:  \n",
    "I/P    [1, 2, 4, ,6, 3, 7, 8]  \n",
    "O/P    5"
   ]
  },
  {
   "cell_type": "markdown",
   "metadata": {},
   "source": [
    "The idea to approach algorithm problem is going through a **algorithm design canvas**\n",
    "\n",
    "https://www.hiredintech.com/the-algorithm-design-canvas.pdf\n",
    "\n",
    "![image](https://user-images.githubusercontent.com/2688478/33750976-527a7a58-db8c-11e7-9b6f-41dfb727b7ee.png)\n",
    "\n",
    "## Constraints\n",
    "- N-1 Given numbers are in 1 to N\n",
    "- No duplicates\n",
    "- Write efficient code (that means polynomial time O (N<sup>k</sup>) algorithms **not ok**)\n",
    "\n",
    "## Idea\n",
    "Since the numbers are strickly between 1 to n, we can make use of equation to add first n number = **N (N+1) / 2**\n",
    "\n",
    "Since one number is missing, if we keep subtracking each number from this sum, we should find the missing number."
   ]
  },
  {
   "cell_type": "code",
   "execution_count": 5,
   "metadata": {},
   "outputs": [
    {
     "data": {
      "text/plain": [
       "com.twosigma.beaker.javash.bkrc742e772.MissingNum"
      ]
     },
     "execution_count": 5,
     "metadata": {},
     "output_type": "execute_result"
    }
   ],
   "source": [
    "public class MissingNum {\n",
    "    \n",
    "    public int findMissingNum(int[] a){\n",
    "        //Step1: get the number of all the number including missing number\n",
    "        int n = a.length + 1;\n",
    "        int total = n * (n+1) / 2;\n",
    "        \n",
    "        for(int x: a){\n",
    "            total -= x;\n",
    "        }\n",
    "        return total;\n",
    "    }\n",
    "}"
   ]
  },
  {
   "cell_type": "code",
   "execution_count": 6,
   "metadata": {},
   "outputs": [
    {
     "name": "stdout",
     "output_type": "stream",
     "text": [
      "Missing Number: 4\n"
     ]
    },
    {
     "data": {
      "text/plain": [
       "null"
      ]
     },
     "execution_count": 6,
     "metadata": {},
     "output_type": "execute_result"
    }
   ],
   "source": [
    "int[] a = {1,2,3,5,6,7,8,9};\n",
    "MissingNum mn = new MissingNum();\n",
    "System.out.println(\"Missing Number: \" + mn.findMissingNum(a));"
   ]
  }
 ],
 "metadata": {
  "kernelspec": {
   "display_name": "Java",
   "language": "java",
   "name": "java"
  },
  "language_info": {
   "codemirror_mode": "text/x-java",
   "file_extension": ".java",
   "mimetype": "",
   "name": "Java",
   "nbconverter_exporter": "",
   "version": "1.8.0_121"
  }
 },
 "nbformat": 4,
 "nbformat_minor": 2
}
