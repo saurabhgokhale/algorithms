{
 "cells": [
  {
   "cell_type": "markdown",
   "metadata": {},
   "source": [
    "# Ceiling in a sorted array\n",
    "\n",
    "http://www.geeksforgeeks.org/ceiling-in-a-sorted-array/\n",
    "\n",
    "Given a sorted array and a value x, the ceiling of x is the smallest element in array greater than or equal to x, and the floor is the greatest element smaller than or equal to x. Assume than the array is sorted in non-decreasing order. Write efficient functions to find floor and ceiling of x.\n",
    "\n",
    "For example, let the input array be {1, 2, 8, 10, 10, 12, 19}  \n",
    "For x = 0:    floor doesn't exist in array,  ceil  = 1  \n",
    "For x = 1:    floor  = 1,  ceil  = 1  \n",
    "For x = 5:    floor  = 2,  ceil  = 8  \n",
    "For x = 20:   floor  = 19,  ceil doesn't exist in array  \n",
    "\n",
    "\n",
    "\n",
    "## Solution\n",
    "\n",
    "As per the algorithm design sheet, \n",
    "\n",
    "### Constraints\n",
    "Now the example is given so we know the input and its types. Otherwise I would have asked questions on \n",
    "- what is the input type\n",
    "- input size\n",
    "- What happens if the ceiling is found and not found etc\n",
    "- what is the expected timing constraints (has to be better than O(N))\n",
    "\n",
    "### Possible solution\n",
    "- "
   ]
  },
  {
   "cell_type": "code",
   "execution_count": 10,
   "metadata": {},
   "outputs": [
    {
     "data": {
      "text/plain": [
       "com.twosigma.beaker.javash.bkre48490d2.Ceiling"
      ]
     },
     "execution_count": 10,
     "metadata": {},
     "output_type": "execute_result"
    }
   ],
   "source": [
    "public class Ceiling {\n",
    "    \n",
    "    public static int findCeil(int[] a, int k){\n",
    "        //asert(array sorted) - Assume the input is already sorted\n",
    "        int l = 0;\n",
    "        int h = a.length - 1;\n",
    "        \n",
    "        while(h > l) {\n",
    "            int m = l + (h - l) / 2;\n",
    "            \n",
    "            if(a[l] == k)  return nextLarger(a, l);\n",
    "            else if (a[h] == k) return nextLarger(a, h);\n",
    "            else if(a[m] == k) return nextLarger(a, m);\n",
    "            else if(a[m] > k) {\n",
    "                // check if a[m-1] is smaller than k\n",
    "                if(a[m-1] < k) return a[m];// we found ceiling\n",
    "                else if(a[m-1] == k) return a[m];//still found both\n",
    "                else {\n",
    "                    h = m - 1;\n",
    "                }\n",
    "            }\n",
    "            else { //a[m] < k\n",
    "                // check if a[m-1] is smaller than k\n",
    "                if(a[m+1] > k) return a[m+1];// we found ceiling\n",
    "                else if(a[m+1] == k) return nextLarger(a, m+1); //still found both\n",
    "                else {\n",
    "                    l = m + 1;\n",
    "                }\n",
    "            }\n",
    "        }\n",
    "        return -1;\n",
    "    }\n",
    "    \n",
    "    private static int nextLarger(int[] a, int x){\n",
    "        for(int i = x; i < a.length; i++){\n",
    "            if (a[i] > a[x]) return a[i];\n",
    "        }\n",
    "        return -1;\n",
    "    }\n",
    "}"
   ]
  },
  {
   "cell_type": "code",
   "execution_count": 9,
   "metadata": {},
   "outputs": [
    {
     "name": "stdout",
     "output_type": "stream",
     "text": [
      "Ceiling of 11 = 15\n",
      "Ceiling of 10 = 10\n",
      "Ceiling of 3 = 8\n",
      "Ceiling of 19 = -1\n"
     ]
    },
    {
     "data": {
      "text/plain": [
       "null"
      ]
     },
     "execution_count": 9,
     "metadata": {},
     "output_type": "execute_result"
    }
   ],
   "source": [
    "int[] a = {1, 2, 8, 10, 10, 15, 19};\n",
    "System.out.println(\"Ceiling of 11 = \" + Ceiling.findCeil(a, 11));\n",
    "System.out.println(\"Ceiling of 10 = \" + Ceiling.findCeil(a, 10));\n",
    "System.out.println(\"Ceiling of 3 = \" + Ceiling.findCeil(a, 3));\n",
    "System.out.println(\"Ceiling of 19 = \" + Ceiling.findCeil(a, 19));"
   ]
  }
 ],
 "metadata": {
  "kernelspec": {
   "display_name": "Java",
   "language": "java",
   "name": "java"
  },
  "language_info": {
   "codemirror_mode": "text/x-java",
   "file_extension": ".java",
   "mimetype": "",
   "name": "Java",
   "nbconverter_exporter": "",
   "version": "1.8.0_121"
  }
 },
 "nbformat": 4,
 "nbformat_minor": 2
}
