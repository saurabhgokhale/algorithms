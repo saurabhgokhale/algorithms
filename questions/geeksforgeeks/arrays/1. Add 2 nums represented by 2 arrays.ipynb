{
 "cells": [
  {
   "cell_type": "markdown",
   "metadata": {},
   "source": [
    "# Add 2 numbers represented by 2 arrays\n",
    "\n",
    "https://www.geeksforgeeks.org/add-two-numbers-represented-by-two-arrays/\n",
    "\n",
    "Given two array A[0….n-1] and B[0….m-1] of size n and m respectively, representing two numbers such that every element of arrays represent a digit. For example, A[] = { 1, 2, 3} and B[] = { 2, 1, 4 } represent 123 and 214 respectively. The task is to find the sum of both the number. In above case, answer is 337.\n",
    "\n",
    "Examples:\n",
    "\n",
    "Input : n = 3, m = 3  \n",
    "        a[] = { 1, 2, 3 }  \n",
    "        b[] = { 2, 1, 4 }  \n",
    "Output : 337  \n",
    "123 + 214 = 337  \n",
    "\n",
    "Input : n = 3, m = 3  \n",
    "        a[] = { 9, 5, 4, 9 }  \n",
    "        b[] = { 2, 1, 4 }  \n",
    "Output : 9763  \n",
    "\n"
   ]
  }
 ],
 "metadata": {
  "kernelspec": {
   "display_name": "Java",
   "language": "java",
   "name": "java"
  },
  "language_info": {
   "codemirror_mode": "text/x-java",
   "file_extension": ".java",
   "mimetype": "",
   "name": "Java",
   "nbconverter_exporter": "",
   "version": "1.8.0_121"
  }
 },
 "nbformat": 4,
 "nbformat_minor": 2
}
