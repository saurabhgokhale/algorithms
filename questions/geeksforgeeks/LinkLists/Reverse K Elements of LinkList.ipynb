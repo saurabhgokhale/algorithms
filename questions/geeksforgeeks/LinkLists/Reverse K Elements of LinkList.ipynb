{
 "cells": [
  {
   "cell_type": "markdown",
   "metadata": {},
   "source": [
    "# Reverse first K elements of given linked list\n",
    "\n",
    "## Question\n",
    "\n",
    "Given pointer to the head node of a linked list and a number K, the task is to reverse the first K nodes of the linked list. We need to reverse the list by changing links between nodes.\n",
    "check also Reversal of a linked list\n",
    "\n",
    "Examples:\n",
    "\n",
    "Input : 1->2->3->4->5->6->7->8->9->10->NULL\n",
    "        k = 3\n",
    "Output :3->2->1->4->5->6->7->8->9->10->NULL\n",
    "\n",
    "Input :10->18->20->25->35->NULL\n",
    "       k = 2\n",
    "Output :18->10->20->25->35->NULL\n",
    "\n",
    "\n",
    "### Constraints\n",
    "- \n",
    "\n",
    "\n",
    "### Ideas\n",
    "- Push first k elements from the LL on the stack\n",
    "- Traverse through the LL again and this time pop one element from the stack and change the LL value with that element\n",
    "- Time Complexity O(N)\n",
    "- Space Complexity O(N)"
   ]
  },
  {
   "cell_type": "code",
   "execution_count": 1,
   "metadata": {},
   "outputs": [
    {
     "data": {
      "text/plain": [
       "com.twosigma.beaker.javash.bkr7b68f586.ReverseK"
      ]
     },
     "execution_count": 1,
     "metadata": {},
     "output_type": "execute_result"
    }
   ],
   "source": [
    "import java.util.*;\n",
    "\n",
    "public class ReverseK {\n",
    "    \n",
    "    public LinkedList<Integer> reverseList(LinkedList<Integer> l, int k) {\n",
    "        Stack<Integer> st = new Stack<Integer>();\n",
    "        for(int i = 0; i < k; i++) {\n",
    "            st.add(l.get(i));\n",
    "        }\n",
    "        \n",
    "        int id = 0;\n",
    "        \n",
    "        while(!st.empty()){\n",
    "            l.set(id, st.pop());\n",
    "            id++;\n",
    "        }\n",
    "        \n",
    "        return l;\n",
    "    }\n",
    "    \n",
    "    public Integer[] printList(LinkedList<Integer> l){\n",
    "        return l.toArray(new Integer[0]);\n",
    "    }\n",
    "}"
   ]
  },
  {
   "cell_type": "code",
   "execution_count": 4,
   "metadata": {},
   "outputs": [
    {
     "name": "stdout",
     "output_type": "stream",
     "text": [
      "[0, 1, 2, 3, 4, 5, 6, 7, 8, 9]\n",
      "[4, 3, 2, 1, 0, 5, 6, 7, 8, 9]\n"
     ]
    },
    {
     "data": {
      "text/plain": [
       "null"
      ]
     },
     "execution_count": 4,
     "metadata": {},
     "output_type": "execute_result"
    }
   ],
   "source": [
    "import java.util.*;\n",
    "\n",
    "LinkedList<Integer> l = new LinkedList<Integer>();\n",
    "for(int i = 0; i < 10; i++) {\n",
    "    l.add(i);\n",
    "}\n",
    "ReverseK r = new ReverseK();\n",
    "\n",
    "System.out.println(Arrays.toString(r.printList(l)));\n",
    "LinkedList<Integer> ll = r.reverseList(l, 5);\n",
    "System.out.println(Arrays.toString(r.printList(ll)));"
   ]
  }
 ],
 "metadata": {
  "kernelspec": {
   "display_name": "Java",
   "language": "java",
   "name": "java"
  },
  "language_info": {
   "codemirror_mode": "text/x-java",
   "file_extension": ".java",
   "mimetype": "",
   "name": "Java",
   "nbconverter_exporter": "",
   "version": "1.8.0_121"
  }
 },
 "nbformat": 4,
 "nbformat_minor": 2
}
