{
 "cells": [
  {
   "cell_type": "markdown",
   "metadata": {},
   "source": [
    "# Reverse the Vowels in the String\n",
    "\n",
    "## Question\n",
    "Given a string \"abcdef\" reverse the vowels in the string  \n",
    "Example:  \n",
    "- \"abcdef\" --> \"ebcdaf\"\n",
    "- \"apple\" --> \"eppla\"\n",
    "\n",
    "\n",
    "### Constraints\n",
    "- Can the string have null / no elements (YES)\n",
    "- Can the string have no vowels (YES)\n",
    "- Can the string have all vowels (YES)\n",
    "- Expected Time complexity - O(N)\n",
    "- Expected Space Compexity - O(N)\n",
    "- Can the string contain lower and upper case letters (just lower case)\n",
    "\n",
    "\n",
    "### High Level Solution\n",
    "Start pointer i from left and j from right. Stop when both hit vowel. If i < j, swap the characters at the positions and move forward."
   ]
  },
  {
   "cell_type": "code",
   "execution_count": 25,
   "metadata": {},
   "outputs": [
    {
     "data": {
      "text/plain": [
       "com.twosigma.beaker.javash.bkrcfc97706.ReverseVowels"
      ]
     },
     "execution_count": 25,
     "metadata": {},
     "output_type": "execute_result"
    }
   ],
   "source": [
    "import java.util.*;\n",
    "\n",
    "public class ReverseVowels {\n",
    "    public String reverseV(String s){\n",
    "        char[] c = s.toCharArray();\n",
    "        int i = 0; \n",
    "        int j = c.length - 1;\n",
    "        \n",
    "        while(i < j) {\n",
    "            while(i < c.length-1 && !isVowel(c[i])) i++;\n",
    "            while(j > 0 && !isVowel(c[j])) j--;\n",
    "            if(i > j) break;\n",
    "            exch(c, i, j);\n",
    "            i++; j--;\n",
    "        }\n",
    "        return new String(c);\n",
    "    }\n",
    "    \n",
    "    private boolean isVowel(char c){\n",
    "        return (c == 'a' || c == 'e' || c == 'i'|| c == 'o'|| c == 'u') ? true : false; \n",
    "    }\n",
    "    \n",
    "    private void exch (char[] c, int i, int j){\n",
    "        char temp = c[i];\n",
    "        c[i] = c[j];\n",
    "        c[j] = temp;\n",
    "    }\n",
    "}"
   ]
  },
  {
   "cell_type": "code",
   "execution_count": 26,
   "metadata": {},
   "outputs": [
    {
     "name": "stdout",
     "output_type": "stream",
     "text": [
      "[C@14989204\n"
     ]
    },
    {
     "data": {
      "text/plain": [
       "null"
      ]
     },
     "execution_count": 26,
     "metadata": {},
     "output_type": "execute_result"
    }
   ],
   "source": [
    "ReverseVowels rv = new ReverseVowels();\n",
    "System.out.println(rv.reverseV(\"abcedf\"));"
   ]
  }
 ],
 "metadata": {
  "kernelspec": {
   "display_name": "Java",
   "language": "java",
   "name": "java"
  },
  "language_info": {
   "codemirror_mode": "text/x-java",
   "file_extension": ".java",
   "mimetype": "",
   "name": "Java",
   "nbconverter_exporter": "",
   "version": "1.8.0_121"
  }
 },
 "nbformat": 4,
 "nbformat_minor": 2
}
