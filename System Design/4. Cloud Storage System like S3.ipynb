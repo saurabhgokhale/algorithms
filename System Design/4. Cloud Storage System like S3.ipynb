{
 "cells": [
  {
   "cell_type": "markdown",
   "metadata": {},
   "source": [
    "# Design Cloud Storage System like S3\n",
    "\n",
    "https://www.quora.com/How-would-you-design-a-cloud-storage-service-like-Amazons-S3\n",
    "\n",
    "\n",
    "Blob Storage - https://www.minio.io/\n",
    "\n",
    "As it turns out, I just completed a set of slides for a three-hour tutorial on this very topic[1] so I feel pretty comfortable answering this.  ;)  To get even a very basic data store of this type working, you'll need to choose/develop at least the following - all to work at a scale of hundreds to thousands of servers.\n",
    "A membership protocol, which if you're lucky can be leveraged to store basic config data in a highly-available way as well.\n",
    "A consistent-hashing (sharding) scheme.\n",
    "A replication (or redundant-coding) plan, and a coherent consistency/availability strategy to go with it.\n",
    "With me so far?  Now things start to get interesting.  Here are some of the ways you'll need to enhance your simple version.\n",
    "Add code to repair copies after a failure, probably using Merkle trees or something similar.\n",
    "Add code to reconcile divergent copies and to detect bit-rot using checksums etc.\n",
    "Decide on a security model.  Those checksums might turn into HMACs to detect/defeat tampering as well as bit-rot.\n",
    "Add code to rebalance data across servers as those are added or removed.\n",
    "Optimize the per-node performance using techniques such as Bloom filters and LSM trees.\n",
    "OK, now you're getting close.  Let's go for the big one: replication across sites.  Now you're probably going to need vector clocks, plus you'll have to deal with a lot of lower-level issues such as bandwidth management and flow control.  In fact, I've really only talked about algorithms so far and all of that high-level work has to be accompanied by even more low-level work to expose an API or simply move the bits around.  You'll also need to test the ever-loving crap out of this if you want to deploy it at real scale, and testing this kind of system is a career unto itself.\n",
    "\n",
    "Alterntatively, you could just take a good look at OpenStack's Swift, or Ceph's RADOS, or Gluster's UFO/G4S.  Maybe these don't quite seem to do things the way you think they should, but even if you need to dive in and make some serious changes you'd probably still save time compared to doing it yourself.  If nothing else, you'd learn a lot about where the real pain points are, and that would inform your own design."
   ]
  }
 ],
 "metadata": {
  "kernelspec": {
   "display_name": "Java",
   "language": "java",
   "name": "java"
  },
  "language_info": {
   "codemirror_mode": "text/x-java",
   "file_extension": ".java",
   "mimetype": "",
   "name": "Java",
   "nbconverter_exporter": "",
   "version": "1.8.0_121"
  }
 },
 "nbformat": 4,
 "nbformat_minor": 2
}
