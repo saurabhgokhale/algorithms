{
 "cells": [
  {
   "cell_type": "markdown",
   "metadata": {},
   "source": [
    "# Priority Queue and HeapSort\n",
    "---\n",
    "\n",
    "<span style=\"color:blue\">*In place sorting algorithm with guranteed NLogN worst case performance*</span>.  \n",
    "\n",
    "Heap Sort is a specific implementation of Priority Queues  \n",
    "\n",
    "Priority queue differs from other basic implementations like Stack or Queues where items are removed based on the order in which they were inserted.  \n",
    "Priority Queue Applications  \n",
    "1. Huffman Codes [Data Compression]  \n",
    "2. Dijstra's / Prims Algorithm [Graph Searching]\n",
    "3. A* Search [AI]\n",
    "4. Maintain largest M values in a sequence [Statistics]\n",
    "5. Load balacing, Interrupt handling [OS]\n",
    "6. bin packing, scheduling [Discrete Optimization]\n",
    "7. Bayesian spam filter [Spam filtering]\n",
    "\n",
    "\n",
    "Priority Queue is implemented **in theory** using **Binary Heap** data structure.  \n",
    "![image](https://user-images.githubusercontent.com/2688478/33529584-aa5df122-d827-11e7-8f67-49f24872c0cc.png)\n",
    "\n",
    "Property: Height of the complete tree is logN (thats because height only increases when the nodes are a power of 2)  \n",
    "\n",
    "Heap is presented **in practice** as an **array** data structure  \n",
    "![image](https://user-images.githubusercontent.com/2688478/33529678-06515266-d829-11e7-85c7-e9b9433d0a97.png)\n",
    "\n",
    "Largest element in the array is a[1] which is the root of the binary tree.  \n",
    "Parent of the node at **k** is at **k/2**  \n",
    "Childen of the node at **k** are at **2k** and at **2k+1**  \n",
    "\n",
    "\n",
    "## Heap Condition\n",
    "In the binary heap, the parent is always larger than both its children.  \n",
    "\n",
    "## Swim Operation\n",
    "If the condition is violated, then we perform swim operation and swap the larger child with the parent.\n",
    "![image](https://user-images.githubusercontent.com/2688478/33529739-ee98501a-d829-11e7-9fb7-d636d5eed1ee.png)\n",
    "\n",
    "## Insert Operation\n",
    "We can add a new element to the binary heap by adding that element to the end of the array and then call swim to place the element in its correct position.\n",
    "![image](https://user-images.githubusercontent.com/2688478/33530057-8a520eca-d82e-11e7-9fd2-7e8d6c21b258.png)  \n",
    "This operation takes atmost **1+log(N)** operations\n",
    "\n",
    "## Demotion Operation    \n",
    "For whatever reason if the parent becomes smaller than its children, we replace parent with the larger of the 2 children. We keep going until the heap condition is satisfied at every position.\n",
    "![image](https://user-images.githubusercontent.com/2688478/33530145-e24e7004-d82f-11e7-890c-df1293cbcb6a.png)  \n",
    "\n",
    "## Delete Maximum in Heap  \n",
    "To remove the max element from the max heap, we delete the maximum element from the heap and replace the max element (which is at the top of the array a[1]) with the last element of the array.  \n",
    "Now that may violate the heap condition at that node, so we demote /sink the element to its right position.\n",
    "![image](https://user-images.githubusercontent.com/2688478/33530168-5eb6a170-d830-11e7-943e-d836cc5d5e41.png)\n",
    "\n",
    "## Complete Binary Heap Implementation\n",
    "![image](https://user-images.githubusercontent.com/2688478/33530220-65677804-d831-11e7-8d76-721562f5c99d.png)\n",
    "![image](https://user-images.githubusercontent.com/2688478/33530231-8635aa2e-d831-11e7-8387-236f2afa7b35.png)\n",
    "\n",
    "## Performance\n",
    "![image](https://user-images.githubusercontent.com/2688478/33530255-e6a0cc86-d831-11e7-8516-9386a79d4c71.png)\n",
    "\n",
    "\n",
    "### <span style=\"color:red\">Practical difficulties in using heap sort</span>\n",
    "Heap sort is not very popular in practical use though\n",
    "1. Inner loop is longer than quick sort. There are more things to do in the inner loop. There is a 2 children compare and compare with the parent (2 compares)\n",
    "2. Array index arithmatic\n",
    "3. References to memory are all over the place when its a huge array. So in a modern computers where there is a caching, it can not make use of caching. Like quick sort, it can not make use of something near by, something that was reference earlier. In a big block of things come into memory, heap sort looks far away in a different block when it looks at the elements at the end of the tree.\n",
    "4. Heap sort is not stable as it uses long distance exchanges. (People use merge sort to get stability)\n",
    "\n",
    "### Sort Algorithm Summary\n",
    "![image](https://user-images.githubusercontent.com/2688478/33532028-6084c418-d84a-11e7-83ee-dd1d7cd99009.png)\n",
    "\n",
    "\n",
    "HeapSort has 2 flavors, min heap and max heap.  \n",
    "In the min heap sort, the mininum element among the input is pushed to the top of the heap. In the max heap sort, max element is pushed to the top.  \n",
    "Heap is presented as a array data structure.  \n",
    "The primary method in the heap sort is the called \"heapify\" that bubbles the min/max element to the top of the array.\n",
    "\n",
    "\n"
   ]
  },
  {
   "cell_type": "code",
   "execution_count": 5,
   "metadata": {},
   "outputs": [
    {
     "data": {
      "text/plain": [
       "com.twosigma.beaker.javash.bkrd0691e61.HeapSort"
      ]
     },
     "execution_count": 5,
     "metadata": {},
     "output_type": "execute_result"
    }
   ],
   "source": [
    "public class HeapSort {\n",
    "      \n",
    "    /*Rearranges the array in ascending order*/\n",
    "    public static void sort(Comparable[] pq){\n",
    "        int n = pq.length;\n",
    "        \n",
    "        /*\n",
    "        For loop starts from n/2 as in the heap sort array, last half part is leaf elements \n",
    "        present in the last level of the binary heap\n",
    "        */\n",
    "        for(int k = n /2; k >= 1; k--) sink(pq, k, n);\n",
    "        while(n > 1){\n",
    "            /*\n",
    "            perform the swap between the top of the heap and the last element and then \n",
    "            reduce the size of the array by 1 using n--;\n",
    "            */\n",
    "            exch(pq, 1, n--); \n",
    "            sink(pq, 1, n);\n",
    "        }\n",
    "    }\n",
    "    \n",
    "    /* Sinks the element at k with larger of its 2 children */\n",
    "    private static void sink (Comparable[] pq, int k, int n){\n",
    "        \n",
    "        while(2*k <= n) {//check if 2*k is not going out of array\n",
    "            int j = 2 * k;\n",
    "            if( j < n && less(pq, j, j+1)) j++; // make sure j is inside n size\n",
    "            if( ! less(pq, k, j)) break; //if k is larger than child at j (j is pointing to the largest children)\n",
    "            exch(pq, k, j);\n",
    "            k = j;\n",
    "        }\n",
    "    }\n",
    "    \n",
    "    /*Compare 2 elements*/\n",
    "    private static boolean less(Comparable[] pq, int i, int j) {\n",
    "        return pq[i-1].compareTo(pq[j-1]) < 0;\n",
    "        /*\n",
    "        i-1 and j-1 are required as indexes passed are 1 based instead of 0 based \n",
    "        so while comparing just adjust the element by subtracting 1\n",
    "        */\n",
    "    }\n",
    "    \n",
    "    private static void exch(Object[] pq, int i, int j){\n",
    "        Object swap = pq[i-1];\n",
    "        pq[i-1] = pq[j-1];\n",
    "        pq[j-1] = swap;\n",
    "    }\n",
    "    \n",
    "    public static void print(Comparable[] a){\n",
    "        for(int i = 0; i < a.length; i++){\n",
    "            System.out.print(a[i]);\n",
    "        }\n",
    "        System.out.println();\n",
    "    }\n",
    "}"
   ]
  },
  {
   "cell_type": "code",
   "execution_count": 7,
   "metadata": {},
   "outputs": [
    {
     "name": "stdout",
     "output_type": "stream",
     "text": [
      "0123456789\n"
     ]
    },
    {
     "data": {
      "text/plain": [
       "null"
      ]
     },
     "execution_count": 7,
     "metadata": {},
     "output_type": "execute_result"
    }
   ],
   "source": [
    "Integer[] a = {5,7,1,2,3,9,4,8,6,0};\n",
    "HeapSort.sort(a);\n",
    "HeapSort.print(a);"
   ]
  },
  {
   "cell_type": "code",
   "execution_count": null,
   "metadata": {},
   "outputs": [],
   "source": []
  }
 ],
 "metadata": {
  "kernelspec": {
   "display_name": "Java",
   "language": "java",
   "name": "java"
  },
  "language_info": {
   "codemirror_mode": "text/x-java",
   "file_extension": ".java",
   "mimetype": "",
   "name": "Java",
   "nbconverter_exporter": "",
   "version": "1.8.0_121"
  }
 },
 "nbformat": 4,
 "nbformat_minor": 2
}
