{
 "cells": [
  {
   "cell_type": "markdown",
   "metadata": {},
   "source": [
    "# Huffman Compression"
   ]
  },
  {
   "cell_type": "markdown",
   "metadata": {},
   "source": [
    "In a regular compression a stream of 0's and 1's are represented by fixed sized codes but there is no specific reason to use fixed size code.\n",
    "\n",
    "Huffman compression instead uses a variable size codes to represent data.\n",
    "\n",
    "Morse code has similar idea:  \n",
    "Idea is: Frequently used letters has smaller size codes and longer size codes are kept for in-frequent letters.\n",
    "\n",
    "<img src=\"https://user-images.githubusercontent.com/2688478/37130279-9cd1edc4-2237-11e8-95a6-eec8766ed082.png\" width=\"40%\">\n",
    "\n",
    "The issue with morse code is the given input can be confused to different interpretations. This abiguity is due to the fact that one code is a prefix of the other.\n",
    "\n",
    "<img src=\"https://user-images.githubusercontent.com/2688478/37130355-eda486d0-2237-11e8-8538-6e5dcbedecf1.png\" width=\"40%\">\n",
    "\n",
    "\n",
    "## How do we avoid ambiguity\n",
    "\n",
    "Ensure that no code is a prefix of another. Fix length codes do that. \n",
    "\n",
    "Morse code handles ambiguity by adding space between ech codeword. The better approach is to find general prefix free code.\n",
    "\n",
    "<img src=\"https://user-images.githubusercontent.com/2688478/37130957-e3316742-223a-11e8-927e-dc101308ca7d.png\">\n",
    "\n",
    "<img src=\"https://user-images.githubusercontent.com/2688478/37229001-71048588-2397-11e8-875a-75b5ad859388.png\" width=\"70%\">\n",
    "![image](https://user-images.githubusercontent.com/2688478/37229001-71048588-2397-11e8-875a-75b5ad859388.png)\n",
    "\n",
    "![image](https://user-images.githubusercontent.com/2688478/37229045-9b5ac69e-2397-11e8-8645-f3f548357048.png)\n",
    "\n",
    "![image](https://user-images.githubusercontent.com/2688478/37229063-a6db5e8e-2397-11e8-80ec-5505f695001f.png)\n",
    "\n",
    "![image](https://user-images.githubusercontent.com/2688478/37229102-c02948ec-2397-11e8-969e-12579d156bfd.png)\n",
    "\n",
    "![image](https://user-images.githubusercontent.com/2688478/37229116-d0121cb6-2397-11e8-8a0a-40f7200f1643.png)\n",
    "\n",
    "\n",
    "## Running Time\n",
    "\n",
    "Running time of the Huffman algorithm (using Binary heap for Min Priority Queue) is N + R log R . (N = Input size, R = Alphabet size)\n",
    "\n",
    "\n",
    "\n",
    "\n",
    "\n"
   ]
  }
 ],
 "metadata": {
  "kernelspec": {
   "display_name": "Java",
   "language": "java",
   "name": "java"
  },
  "language_info": {
   "codemirror_mode": "text/x-java",
   "file_extension": ".java",
   "mimetype": "",
   "name": "Java",
   "nbconverter_exporter": "",
   "version": "1.8.0_121"
  }
 },
 "nbformat": 4,
 "nbformat_minor": 2
}
