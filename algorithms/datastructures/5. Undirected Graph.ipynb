{
 "cells": [
  {
   "cell_type": "markdown",
   "metadata": {},
   "source": [
    "# Undirected Graph\n",
    "\n",
    "\n",
    "![image](https://user-images.githubusercontent.com/2688478/34393449-573a3e90-eb07-11e7-8e4e-cf44fe2be529.png)\n",
    "\n",
    "![image](https://user-images.githubusercontent.com/2688478/34393516-e3885d3c-eb07-11e7-8b58-e713966d92b9.png)\n",
    "\n",
    "### Representation\n",
    "- **2 Array** - Graph can be represented as a set of edges using 2 arrays or linked list.  \n",
    "![image](https://user-images.githubusercontent.com/2688478/34393614-817108be-eb08-11e7-802a-8d249d175609.png)\n",
    "\n",
    "But this representation will be inefficient for a huge graph.\n",
    "\n",
    "- **Adjacency Matrix** - other way to represent the graph using 2 dimentional array.  \n",
    " Advantages: \n",
    "    - query like is v connected to w will be answered in O(1) time by looking at array[v][w] == true  \n",
    "    \n",
    " Disadvantages: \n",
    "    - For a huge graph with billions of vertices, billion<sup>2</sup> matrix will not be fit in memory.\n",
    "\n",
    "![image](https://user-images.githubusercontent.com/2688478/34393675-ef8adf78-eb08-11e7-9a68-ab23e718bb70.png)\n",
    "\n",
    "- **Adjacency List** - The one that is widely used is adjacency list implementation.\n",
    "\n",
    "![image](https://user-images.githubusercontent.com/2688478/34400474-a6c3ed3c-eb46-11e7-8f2a-e4852230041e.png)\n",
    "\n"
   ]
  },
  {
   "cell_type": "code",
   "execution_count": 4,
   "metadata": {},
   "outputs": [
    {
     "data": {
      "text/plain": [
       "com.twosigma.beaker.javash.bkrb77e3956.Graph"
      ]
     },
     "execution_count": 4,
     "metadata": {},
     "output_type": "execute_result"
    }
   ],
   "source": [
    "import java.util.*;\n",
    "\n",
    "public class Graph {\n",
    "    int V; //Number of vertices\n",
    "    int E; //Number of edges\n",
    "    List<Integer>[] adj; //adjacency list storing all the adjacent vertices for a given vertex\n",
    "    \n",
    "    public Graph (int V){\n",
    "        this.V = V;\n",
    "        adj = new ArrayList[V]; //note: I can not use new ArrayList<Integer>[] due to generics erasure implementation\n",
    "        for(int v = 0; v < V; v++) {\n",
    "            adj[v] = new ArrayList<Integer>(); \n",
    "        }\n",
    "    }\n",
    "    \n",
    "    public void addEdge(int v, int w){\n",
    "        adj[v].add(w);\n",
    "        adj[w].add(v);\n",
    "    }\n",
    "    \n",
    "    public Iterable<Integer> adj(int v){\n",
    "        return adj[v];\n",
    "    }\n",
    "}"
   ]
  }
 ],
 "metadata": {
  "kernelspec": {
   "display_name": "Java",
   "language": "java",
   "name": "java"
  },
  "language_info": {
   "codemirror_mode": "text/x-java",
   "file_extension": ".java",
   "mimetype": "",
   "name": "Java",
   "nbconverter_exporter": "",
   "version": "1.8.0_121"
  }
 },
 "nbformat": 4,
 "nbformat_minor": 2
}
