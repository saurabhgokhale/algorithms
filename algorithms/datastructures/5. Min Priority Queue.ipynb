{
 "cells": [
  {
   "cell_type": "markdown",
   "metadata": {},
   "source": [
    "# Min Binary Heap\n",
    "\n",
    "Note: Priority Queue and Heap Sort implementation is discussed under /algorithms/sorting section."
   ]
  },
  {
   "cell_type": "code",
   "execution_count": 24,
   "metadata": {},
   "outputs": [
    {
     "data": {
      "text/plain": [
       "com.twosigma.beaker.javash.bkr37ad8cb3.MinPQ"
      ]
     },
     "execution_count": 24,
     "metadata": {},
     "output_type": "execute_result"
    }
   ],
   "source": [
    "public class MinPQ {\n",
    "\n",
    "\tprivate static int n = 1; // number of items on priority queue\n",
    "\tprivate static int[] pq;\n",
    "\n",
    "\t/*public static void main(String[] args) {\n",
    "\t\tinitializeQ();\n",
    "\t\tMinPQ.insert(2);\n",
    "\t\tSystem.out.println(\"Current min: \" + getMin());\n",
    "\t\tSystem.out.println(\"deleting min: \" + delMin());\n",
    "\t\tMinPQ.insert(3);\n",
    "\t\tMinPQ.insert(4);\n",
    "\t\tMinPQ.insert(0);\n",
    "\t\tSystem.out.println(\"Current min: \" + getMin());\n",
    "\t\tSystem.out.println(\"deleting min: \" + delMin());\n",
    "\t\tMinPQ.insert(10);\n",
    "\t\tMinPQ.insert(1);\n",
    "\t\tMinPQ.insert(15);\n",
    "\t\tMinPQ.insert(2);\n",
    "\t\tSystem.out.println(\"Current min: \" + getMin());\n",
    "\t\tSystem.out.println(\"deleting min: \" + delMin());\n",
    "\t\tSystem.out.println(\"Current min: \" + getMin());\n",
    "\n",
    "\t}*/\n",
    "\t\n",
    "\tpublic static void initializeQ(){\n",
    "\t\tpq = new int[10];\n",
    "\t\t//for (int i= 0; i < n; i++) pq[i] = Integer.MAX_VALUE;\n",
    "\t}\n",
    "\t/*\n",
    "\tpublic MinPQ(int initCapacity) {\n",
    "\t\t// pq = (int[]) new Object[initCapacity + 1];\n",
    "\t\tpq = new int[initCapacity + 1];\n",
    "\t\tn = 0;\n",
    "\t}*/\n",
    "\t\n",
    "\tpublic static int delMin(){\n",
    "\t\tint min = pq[1];\n",
    "        exch(1, n--);\n",
    "        sink(1);\n",
    "        //pq[n+1] = null;     // to avoid loiterig and help with garbage collection\n",
    "        return min;\n",
    "\t}\n",
    "\n",
    "\t/* Sink the element at K with smaller of its 2 children */\n",
    "\tpublic static void sink(int k) {\n",
    "\t\twhile (2 * k <= n) {\n",
    "\t\t\tint j = 2 * k;\n",
    "\t\t\tif (j < n && !less(j, j + 1))\n",
    "\t\t\t\tj++;\n",
    "\t\t\t/*\n",
    "\t\t\t * If k (parent) is larger than j (larger of the child) then break\n",
    "\t\t\t * the loop and do not exchange the elements at k and j as on the\n",
    "\t\t\t * next step\n",
    "\t\t\t */\n",
    "\t\t\tif (!less(k, j))\n",
    "\t\t\t\tbreak;\n",
    "\t\t\texch(k, j);\n",
    "\t\t\tk = j;\n",
    "\t\t}\n",
    "\t}\n",
    "\n",
    "\tprivate static void swim(int k) {\n",
    "\t\twhile (k > 1 && greater(k / 2, k)) {\n",
    "\t\t\texch(k, k / 2);\n",
    "\t\t\tk = k / 2;\n",
    "\t\t}\n",
    "\t}\n",
    "\n",
    "\tpublic static void insert(int x) {\n",
    "\t\t//int n = pq.length;\n",
    "\t\tpq[n] = x;\n",
    "\t\tswim(n);\n",
    "\t\tn++;\n",
    "\t}\n",
    "\n",
    "\tprivate static boolean less(int i, int j) {\n",
    "\t\treturn (pq[i] < pq[j]) ? true : false;\n",
    "\t}\n",
    "\n",
    "\tprivate static void exch(int i, int j) {\n",
    "\t\tint swap = pq[i]; // to compensate for elements starting at i;\n",
    "\t\tpq[i] = pq[j];\n",
    "\t\tpq[j] = swap;\n",
    "\t}\n",
    "\n",
    "\tprivate static boolean greater(int i, int j) {\n",
    "\t\treturn (pq[i] > pq[j]) ? true : false;\n",
    "\t}\n",
    "\n",
    "\tpublic static int getMin() {\n",
    "\t\treturn pq[1];\n",
    "\t}\n",
    "\n",
    "}\n"
   ]
  },
  {
   "cell_type": "code",
   "execution_count": 26,
   "metadata": {},
   "outputs": [
    {
     "name": "stdout",
     "output_type": "stream",
     "text": [
      "Current min: 2\n",
      "deleting min: 2\n",
      "Current min: 0\n",
      "deleting min: 0\n",
      "Current min: 1\n",
      "deleting min: 1\n",
      "Current min: 2\n"
     ]
    },
    {
     "data": {
      "text/plain": [
       "null"
      ]
     },
     "execution_count": 26,
     "metadata": {},
     "output_type": "execute_result"
    }
   ],
   "source": [
    "MinPQ.initializeQ();\n",
    "MinPQ.insert(2);\n",
    "System.out.println(\"Current min: \" + MinPQ.getMin());\n",
    "System.out.println(\"deleting min: \" + MinPQ.delMin());\n",
    "MinPQ.insert(3);\n",
    "MinPQ.insert(4);\n",
    "MinPQ.insert(0);\n",
    "System.out.println(\"Current min: \" + MinPQ.getMin());\n",
    "System.out.println(\"deleting min: \" + MinPQ.delMin());\n",
    "MinPQ.insert(10);\n",
    "MinPQ.insert(1);\n",
    "MinPQ.insert(15);\n",
    "MinPQ.insert(2);\n",
    "System.out.println(\"Current min: \" + MinPQ.getMin());\n",
    "System.out.println(\"deleting min: \" + MinPQ.delMin());\n",
    "System.out.println(\"Current min: \" + MinPQ.getMin());"
   ]
  }
 ],
 "metadata": {
  "kernelspec": {
   "display_name": "Java",
   "language": "java",
   "name": "java"
  },
  "language_info": {
   "codemirror_mode": "text/x-java",
   "file_extension": ".java",
   "mimetype": "",
   "name": "Java",
   "nbconverter_exporter": "",
   "version": "1.8.0_121"
  }
 },
 "nbformat": 4,
 "nbformat_minor": 2
}
