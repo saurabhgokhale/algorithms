{
 "cells": [
  {
   "cell_type": "markdown",
   "metadata": {},
   "source": [
    "# Minimum Spanning Tree (MST)\n",
    "\n",
    "For a connected graph with weighted edges, spanning tree is a subgraph that is connected and has no cycles.  \n",
    "So Minimum Spanning Tree (MST) is the spanning tree among all the spanning trees with minimum weight.\n",
    "\n",
    "![image](https://user-images.githubusercontent.com/2688478/39161691-cd1af8fe-4726-11e8-82ec-b9d2cb1f8653.png)\n",
    "\n",
    "\n",
    "## Minimum spanning tree use cases\n",
    "MST has many use cases like \n",
    "\n",
    "- Bicycle route \n",
    "\n",
    "<img src=\"https://user-images.githubusercontent.com/2688478/39161797-525bac20-4727-11e8-9554-fe34315bd735.png\" width=\"60%\">\n",
    "\n",
    "- Arrangement of Nuclei in Epithelium\n"
   ]
  }
 ],
 "metadata": {
  "kernelspec": {
   "display_name": "Java",
   "language": "java",
   "name": "java"
  },
  "language_info": {
   "codemirror_mode": "text/x-java",
   "file_extension": ".java",
   "mimetype": "",
   "name": "Java",
   "nbconverter_exporter": "",
   "version": "1.8.0_121"
  }
 },
 "nbformat": 4,
 "nbformat_minor": 2
}
