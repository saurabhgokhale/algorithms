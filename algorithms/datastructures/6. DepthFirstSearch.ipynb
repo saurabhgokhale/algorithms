{
 "cells": [
  {
   "cell_type": "markdown",
   "metadata": {},
   "source": [
    "# Depth First Search\n",
    "\n",
    "![image](https://user-images.githubusercontent.com/2688478/34421385-cf267308-ebc3-11e7-9e4d-7a5d8f50d424.png)\n"
   ]
  },
  {
   "cell_type": "code",
   "execution_count": 11,
   "metadata": {},
   "outputs": [
    {
     "data": {
      "text/plain": [
       "com.twosigma.beaker.javash.bkrdd6e91cb.Graph"
      ]
     },
     "execution_count": 11,
     "metadata": {},
     "output_type": "execute_result"
    }
   ],
   "source": [
    "import java.util.*;\n",
    "\n",
    "public class Graph {\n",
    "    int V; // number of vertices\n",
    "    int E; // number of edges\n",
    "    List<Integer>[] adj;\n",
    "    \n",
    "    public Graph(int V){\n",
    "        this.V = V;\n",
    "        adj = new ArrayList[V]; // note: we can not have new ArrayList<Integer>[] due to generics erasure implementation\n",
    "        for(int v = 0; v < V; v++) {\n",
    "            adj[v] = new ArrayList<Integer>();\n",
    "        }\n",
    "    }\n",
    "    \n",
    "    public void addEdge(int v, int w){\n",
    "        adj[v].add(w);\n",
    "        adj[w].add(v);\n",
    "    }\n",
    "    \n",
    "    public Iterable<Integer> adj(int v){\n",
    "        return adj[v];\n",
    "    }\n",
    "    \n",
    "    public int V(){\n",
    "        return V;\n",
    "    }\n",
    "    \n",
    "    public int E(){\n",
    "        return E;\n",
    "    }\n",
    "}"
   ]
  },
  {
   "cell_type": "code",
   "execution_count": 13,
   "metadata": {},
   "outputs": [
    {
     "data": {
      "text/plain": [
       "com.twosigma.beaker.javash.bkrdd6e91cb.DepthFirstPath"
      ]
     },
     "execution_count": 13,
     "metadata": {},
     "output_type": "execute_result"
    }
   ],
   "source": [
    "import java.util.*;\n",
    "\n",
    "public class DepthFirstPath {\n",
    "    private boolean[] marked;\n",
    "    private int[] edgeTo;\n",
    "    private final int s;\n",
    "    \n",
    "    public DepthFirstPath(Graph G, int s) {\n",
    "        this.s = s;\n",
    "        edgeTo = new int[G.V()];\n",
    "        marked = new boolean[G.V()];\n",
    "        dfs(G, s);\n",
    "    }\n",
    "    \n",
    "    private void dfs(Graph G, int v) {\n",
    "        marked[v] = true;\n",
    "        for(int w: G.adj(v)) {\n",
    "            if(!marked[w]){\n",
    "                edgeTo[w] = v;\n",
    "                dfs(G, w);\n",
    "            }\n",
    "        }\n",
    "    }\n",
    "    \n",
    "    public boolean hasPathTo(int v){\n",
    "        return marked[v];\n",
    "    }\n",
    "    \n",
    "    public Iterable<Integer> pathTo(int v){\n",
    "        if(!hasPathTo(v)) return null;\n",
    "        Stack<Integer> path = new Stack<Integer>();\n",
    "        for(int x = v; x != s; x = edgeTo[x])\n",
    "            path.push(x);\n",
    "        \n",
    "        path.push(s); //push the source on the stack\n",
    "        return path;\n",
    "    }\n",
    "    \n",
    "}"
   ]
  }
 ],
 "metadata": {
  "kernelspec": {
   "display_name": "Java",
   "language": "java",
   "name": "java"
  },
  "language_info": {
   "codemirror_mode": "text/x-java",
   "file_extension": ".java",
   "mimetype": "",
   "name": "Java",
   "nbconverter_exporter": "",
   "version": "1.8.0_121"
  }
 },
 "nbformat": 4,
 "nbformat_minor": 2
}
