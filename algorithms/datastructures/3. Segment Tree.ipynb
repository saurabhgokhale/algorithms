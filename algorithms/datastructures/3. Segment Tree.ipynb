{
 "cells": [
  {
   "cell_type": "markdown",
   "metadata": {},
   "source": [
    "# Segment Tree\n",
    "\n",
    "Segment tree is used to answer range query question.\n",
    "\n",
    "int[] a = {-1, 3, 4, 0, 2, 1};\n",
    "\n",
    "In the above array a query of \"what is the minimum number for a range 0 to 3 (that is from index 0 to index 3)  \n",
    "For index 0 - 3 --> min is -1\n",
    "For index 2 - 4 --> min is  0\n",
    "\n",
    "\n",
    "## Use Cases - Queries\n",
    "- Find min / Max number for a range \n",
    "- For sum of number for a range\n",
    "\n",
    "## Possible Options\n",
    "- Without Segment Tree, one possible option is to perform sequential search for a smaller element for the range.  \n",
    "This operation takes O(N) time and if there are millions of queries then total time to handle these queries would be O(M * N) --> O(N<sup>2</sup>)  \n",
    "\n",
    "**Time taken for each call - O(N)  \n",
    "Total time taken for N calls - O(N<sup>2</sup>)**\n",
    "\n",
    "\n",
    "- Other option is to use N by N matrix  \n",
    "Example: For 3 size array {3, -1, 2} create an N x N array and store all the min elements for each range  \n",
    "\n",
    "So for array [3, -1, 2], we fill a table where i and j ranges in the array. \n",
    "\n",
    "![image](https://user-images.githubusercontent.com/2688478/34076292-ebf45cb6-e295-11e7-9ca5-ecc7eb9f3cf3.png)\n",
    "\n",
    "**Time Complexity to build matrix - O(N<sup>2</sup>)  \n",
    "Space Complexity to store matix - O(N<sup>2</sup>)  \n",
    "Time taken for each call - O(1)  \n",
    "Total time taken for N calls - O(N)**\n",
    "\n",
    "## Segment Binary Tree\n",
    "Segment tree is a binary tree with the elements of the tree as the leaf of the binary tree\n",
    "\n",
    "![image](https://user-images.githubusercontent.com/2688478/34076294-019043be-e296-11e7-9ce1-354a02b1ad94.png)\n",
    " "
   ]
  },
  {
   "cell_type": "code",
   "execution_count": 2,
   "metadata": {},
   "outputs": [
    {
     "data": {
      "text/plain": [
       "com.twosigma.beaker.javash.bkr7ba9c45d.SegmentTree"
      ]
     },
     "execution_count": 2,
     "metadata": {},
     "output_type": "execute_result"
    }
   ],
   "source": [
    "import java.util.*;\n",
    "\n",
    "public class SegmentTree {\n",
    "\n",
    "    public void constructTree (int[] input, int[] segTree, int low, int high, int pos){\n",
    "        if(low == high){\n",
    "            segTree[pos] = input[low]; \n",
    "            return; \n",
    "        }\n",
    "        \n",
    "        int mid = (low + high) / 2;\n",
    "        \n",
    "        constructTree(input, segTree, low, mid, 2*pos+1);\n",
    "        constructTree(input, segTree, mid+1, high, 2*pos+2);\n",
    "        \n",
    "        segTree[pos] = Math.min(segTree[2*pos+1], segTree[2*pos+2]);\n",
    "    }\n",
    "    \n",
    "    \n",
    "    public int rangeMinQuery (int[] segTree, int qLow, int qHigh, int low, int high, int pos) {\n",
    "        //Check for total overlap\n",
    "        if(qLow <= low && qHigh >= high) return segTree[pos];\n",
    "        \n",
    "        //check for no overlap\n",
    "        if(qLow > high || qHigh < low) return Integer.MAX_VALUE;\n",
    "        \n",
    "        int mid = (low+high) / 2;\n",
    "        \n",
    "        return Math.min(rangeMinQuery(segTree, qLow, qHigh, low, mid, 2*pos+1),\n",
    "                       rangeMinQuery(segTree, qLow, qHigh, mid+1, high, 2*pos+2));\n",
    "    }\n",
    "}"
   ]
  },
  {
   "cell_type": "code",
   "execution_count": 5,
   "metadata": {},
   "outputs": [
    {
     "name": "stdout",
     "output_type": "stream",
     "text": [
      "size of segTree = 7\n",
      "Min element for range 0 - 3 = -1\n",
      "Min element for range 1 - 3 = 0\n"
     ]
    },
    {
     "data": {
      "text/plain": [
       "null"
      ]
     },
     "execution_count": 5,
     "metadata": {},
     "output_type": "execute_result"
    }
   ],
   "source": [
    "import java.util.*;\n",
    "\n",
    "int[] a = {-1, 2, 4, 0};\n",
    "int segTreeSize = 0;\n",
    "if(Math.sqrt(a.length) % 2 == 0) segTreeSize = a.length * 2 - 1;\n",
    "else segTreeSize = (int) Math.pow(2,Math.ceil(Math.sqrt(a.length))) * 2 - 1;\n",
    "System.out.println(\"size of segTree = \" + segTreeSize);\n",
    "\n",
    "int[] segTree = new int[segTreeSize];\n",
    "for(int i : segTree) segTree[i] = Integer.MAX_VALUE;\n",
    "\n",
    "SegmentTree st = new SegmentTree();\n",
    "st.constructTree(a, segTree, 0, a.length - 1, 0);\n",
    "System.out.println(\"Min element for range 0 - 3 = \" + st.rangeMinQuery(segTree, 0, 3, 0, a.length -1, 0));\n",
    "\n",
    "System.out.println(\"Min element for range 1 - 3 = \" + st.rangeMinQuery(segTree, 1, 3, 0, a.length - 1, 0));"
   ]
  },
  {
   "cell_type": "markdown",
   "metadata": {},
   "source": [
    "Performance of Segment Tree:\n",
    "\n",
    "**Space Complexity:** Worst case space for storing N elements is 4N - O(N)  \n",
    "**Time Complexity:** To construct the Segment Tree: O(N). Query Search O(LogN)"
   ]
  }
 ],
 "metadata": {
  "kernelspec": {
   "display_name": "Java",
   "language": "java",
   "name": "java"
  },
  "language_info": {
   "codemirror_mode": "text/x-java",
   "file_extension": ".java",
   "mimetype": "",
   "name": "Java",
   "nbconverter_exporter": "",
   "version": "1.8.0_121"
  }
 },
 "nbformat": 4,
 "nbformat_minor": 2
}
