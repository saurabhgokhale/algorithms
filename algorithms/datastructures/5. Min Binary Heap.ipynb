{
 "cells": [
  {
   "cell_type": "markdown",
   "metadata": {},
   "source": [
    "# Min Binary Heap\n",
    "\n",
    "Note: Priority Queue and Heap Sort implementation is discussed under /algorithms/sorting section."
   ]
  },
  {
   "cell_type": "code",
   "execution_count": null,
   "metadata": {},
   "outputs": [],
   "source": [
    "public class MinHeap {\n",
    "    \n",
    "    private int n; //number of items on priority queue\n",
    "    \n",
    "    public MinHeap(int initCapacity) {\n",
    "        pq = (int[]) new Object(initCapacity + 1);\n",
    "        n = 0;\n",
    "    }\n",
    "    \n",
    "    /* Sink the element at K with larger of its 2 children */\n",
    "    public void sink (Comparable[] pq, int k, int n) {\n",
    "        while(2*k <= n) {\n",
    "            int j = 2* k;\n",
    "            if(j < n && less(pq, j, j+1)) j++;\n",
    "            /*If k (parent) is larger than j (larger of the child) then break the loop\n",
    "            and do not exchange the elements at k and j as on the next step */\n",
    "            if(! less(pq, k , j)) break; \n",
    "            exch(pq, k, j);\n",
    "            k = j;\n",
    "        }\n",
    "    }\n",
    "    \n",
    "    public void insert(Comparable[] pq, int x) {\n",
    "        int n = pq.length;\n",
    "        pq[++n]\n",
    "    }\n",
    "    \n",
    "    private static boolean less (Comparable[] pq, int i, int j){\n",
    "        return pq[i-1].compareTo(pq[j-1]) < 0;\n",
    "    }\n",
    "    \n",
    "    private static void exch (Comparable[] pq, int i, int j){\n",
    "        Object swap = pq[i-1]; //to compensate for elements starting at i;\n",
    "        pq[i-1] = pq[j-1];\n",
    "        pq[j-1] = swap;\n",
    "    }\n",
    "}"
   ]
  }
 ],
 "metadata": {
  "kernelspec": {
   "display_name": "Java",
   "language": "java",
   "name": "java"
  },
  "language_info": {
   "codemirror_mode": "text/x-java",
   "file_extension": ".java",
   "mimetype": "",
   "name": "Java",
   "nbconverter_exporter": "",
   "version": "1.8.0_121"
  }
 },
 "nbformat": 4,
 "nbformat_minor": 2
}
