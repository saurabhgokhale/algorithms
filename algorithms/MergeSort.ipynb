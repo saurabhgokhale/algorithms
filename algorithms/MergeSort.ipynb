{
 "cells": [
  {
   "cell_type": "markdown",
   "metadata": {},
   "source": [
    "# Merge Sort\n",
    "---\n",
    "<span style=\"color:blue\">Merge sort is a stable sort and with NLogN worst time performance. It uses N additional (auxillary) space. Its a classic **divide and conquer** implementation</span>  \n",
    "\n",
    "Merge sort along with Quick sort is a critial component in the worlds computational infrastructure.  \n",
    "\n",
    "### Merge Sort is used  \n",
    "1. Java sort for objects\n",
    "2. Perl, C++ stable sort, Python stable sort, Firefox javascript etc.  \n",
    "\n",
    "### Quick Sort is used  \n",
    "1. Java sort for primitive types\n",
    "2. C qsort, Unix, Visual C++, Python, Matlab, Chrome Javascript etc.  \n",
    "\n",
    "Idea in the merge sort is divide the array in 2 half, recursively sort the 2 halves and then merge the results.  \n",
    "\n",
    "**John von Neumann** realized in the development of his **EDVAC Computer** (1st general purpose computer) that he needs a sorting method and he came up with merge sort.  \n",
    "\n",
    "The merge sort is based on the idea of merging 2 sorted arrays. \n",
    "\n",
    "1. Step1 is to use an Auxillary array to copy all the elements of the input array.\n",
    "2. We keep 3 pointers... i for the left half of the sorted array, j for the right half and k for the original input array.\n",
    "3. Based on which element pointed by i and j are small, we move that element to the kth position.\n",
    "4. Which ever element was moved, we increase that counter by 1\n",
    "\n",
    "![image](https://user-images.githubusercontent.com/2688478/33588200-92d0908c-d926-11e7-888b-7df04e734f00.png)  \n",
    "\n",
    "### Merge Java Implementation Code\n",
    "![image](https://user-images.githubusercontent.com/2688478/33588374-596f2f0a-d927-11e7-9116-d0336cbdf2cc.png)\n",
    "\n",
    "### Sort Java Implementation Code\n",
    "![image](https://user-images.githubusercontent.com/2688478/33588867-f7782b64-d929-11e7-92d3-86c96bba7d63.png)\n",
    "\n",
    "Its important to not to create AUX array in the recursive routine as its a extra cost of array creation.\n",
    "\n",
    "### Running Time of Merge Sort\n",
    "![image](https://user-images.githubusercontent.com/2688478/33588977-98687308-d92a-11e7-9b3a-edf9755165ae.png)\n",
    "\n",
    "### Running Time of Merge Sort: \n",
    "O(NLogN)\n",
    "\n",
    "### Practical Improvements\n",
    "1. Merge sort is too complicated for a smaller array.   \n",
    "So If the array size is smaller than a CUTOFF (usually 7 items), or when dividing the array, if the input array size becomes less than CUTOFF, use **insertion sort** instead. It improves the performance around 20% faster.\n",
    "![image](https://user-images.githubusercontent.com/2688478/33589013-f398ffa4-d92a-11e7-817c-b1c537c57efa.png)\n",
    "\n",
    "\n",
    "2. If array is partly sorted, just stop. If the biggest element in the first half is smaller than the first element of the second half, it means the array is already sorted.\n",
    "![image](https://user-images.githubusercontent.com/2688478/33589072-4d1cd0dc-d92b-11e7-8a47-492614883c46.png)\n",
    "\n",
    "3. Eliminate the copy to the AUX array. It saves time but not space. We can keep switching the role of the input and AUX array in each recursive call. \n",
    "![image](https://user-images.githubusercontent.com/2688478/33589156-be361bb6-d92b-11e7-9994-4714f7c493ab.png)\n",
    "\n",
    "## Bottom up merge sort\n",
    "\n",
    "Merge sort can also be written to avoid the recursive sort method. In this process, we select an array of size 1 and sort it to get an sorted array of size 2. Then we pickup next 2 elements (2 arrays of size 1) and then sort those to get a sorted array of size 2 again.\n",
    "\n",
    "Once all those elements in size 2 are sorted, we go for a second pass and sort array of size 4 and so on.\n",
    "![image](https://user-images.githubusercontent.com/2688478/33589361-ddc73b94-d92c-11e7-8876-35d2e4f1b643.png)\n",
    "\n",
    "### Code for Buttom Up merge sort\n",
    "\n",
    "The merge method remains same. In the sort method, we use nested for loop of the size of the sub array. The outer loop executed only LogN time as each time we double the size of the subarray.\n",
    "![image](https://user-images.githubusercontent.com/2688478/33589417-2c1b77ba-d92d-11e7-82eb-02bac42b8f9a.png)"
   ]
  },
  {
   "cell_type": "code",
   "execution_count": 2,
   "metadata": {},
   "outputs": [
    {
     "data": {
      "text/plain": [
       "com.twosigma.beaker.javash.bkr80f1127f.MergeSort"
      ]
     },
     "execution_count": 2,
     "metadata": {},
     "output_type": "execute_result"
    }
   ],
   "source": [
    "public class MergeSort {\n",
    "    private static void merge (Comparable[] a, Comparable[] aux, int lo, int mid, int hi) {\n",
    "        //assumption that the a[low to mid] and a[mid+1 to hi] are already sorted\n",
    "        \n",
    "        /*Step 1 is to copy all the elements to an auxillary array*/\n",
    "        for(int k = lo; k <= hi; k++) aux[k] = a[k];\n",
    "        \n",
    "        int i = lo, j = mid+1;\n",
    "        for(int k = lo; k <= hi; k++) {\n",
    "            if (i> mid)               a[k] = aux[j++];\n",
    "            else if (j > hi)          a[k] = aux[i++];\n",
    "            else if ((Integer)aux[j] < (Integer) aux[i]) a[k] = aux[j++];\n",
    "            else                      a[k] = aux[i++];\n",
    "        }\n",
    "    }\n",
    "    \n",
    "    /*Recursive method */\n",
    "    private static void sort (Comparable[] a, Comparable[] aux, int lo, int hi){\n",
    "        if (hi <=lo) return; //since its a recursive routine, make sure you have some work to do\n",
    "        int mid = lo + (hi - lo) / 2;\n",
    "        sort(a, aux, lo, mid);\n",
    "        sort(a, aux, mid+1, hi);\n",
    "        merge(a, aux, lo, mid, hi);\n",
    "    }\n",
    "    \n",
    "    /*Public facing method that accepts input array to sort*/\n",
    "    public static void sort(Comparable[] a) {\n",
    "        /*It important to not to create aux array in the recursive method */\n",
    "        Comparable[] aux = new Comparable[a.length];\n",
    "        sort(a, aux, 0, a.length-1);\n",
    "    }\n",
    "    \n",
    "    public static void print(Comparable[] a){\n",
    "        for(int i = 0; i<a.length; i++)\n",
    "            System.out.print(a[i]);\n",
    "        \n",
    "    }\n",
    "}"
   ]
  },
  {
   "cell_type": "code",
   "execution_count": null,
   "metadata": {},
   "outputs": [],
   "source": [
    "Integer[] a = {6,4,8,9,1,2,0,5,3,7};\n",
    "MergeSort.sort(a);"
   ]
  }
 ],
 "metadata": {
  "kernelspec": {
   "display_name": "Java",
   "language": "java",
   "name": "java"
  },
  "language_info": {
   "codemirror_mode": "text/x-java",
   "file_extension": ".java",
   "mimetype": "",
   "name": "Java",
   "nbconverter_exporter": "",
   "version": "1.8.0_121"
  }
 },
 "nbformat": 4,
 "nbformat_minor": 2
}
