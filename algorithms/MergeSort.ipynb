{
 "cells": [
  {
   "cell_type": "markdown",
   "metadata": {},
   "source": [
    "# Merge Sort\n",
    "---\n",
    "<span style=\"color:blue\">Merge sort is a stable sort and with NLogN worst time performance. It uses N additional (auxillary) space. </span>  \n",
    "\n",
    "Merge sort along with Quick sort is a critial component in the worlds computational infrastructure.  \n",
    "\n",
    "### Merge Sort is used  \n",
    "1. Java sort for objects\n",
    "2. Perl, C++ stable sort, Python stable sort, Firefox javascript etc.  \n",
    "\n",
    "### Quick Sort is used  \n",
    "1. Java sort for primitive types\n",
    "2. C qsort, Unix, Visual C++, Python, Matlab, Chrome Javascript etc.  \n",
    "\n",
    "Idea in the merge sort is divide the array in 2 half, recursively sort the 2 halves and then merge the results.  \n",
    "\n",
    "**John von Neumann** realized in the development of his **EDVAC Computer** (1st general purpose computer) that he needs a sorting method and he came up with merge sort.  \n"
   ]
  }
 ],
 "metadata": {
  "kernelspec": {
   "display_name": "Java",
   "language": "java",
   "name": "java"
  },
  "language_info": {
   "codemirror_mode": "text/x-java",
   "file_extension": ".java",
   "mimetype": "",
   "name": "Java",
   "nbconverter_exporter": "",
   "version": "1.8.0_121"
  }
 },
 "nbformat": 4,
 "nbformat_minor": 2
}
